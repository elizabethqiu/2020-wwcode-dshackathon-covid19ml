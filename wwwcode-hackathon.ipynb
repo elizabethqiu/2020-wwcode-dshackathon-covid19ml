{
 "cells": [
  {
   "cell_type": "markdown",
   "metadata": {},
   "source": [
    "# Problem Statement\n",
    "Create an standardized index to catagorize the risk level of covid-19 spread in communities. It would help Based on the paper *A COVID-19 Reopening Readiness Index: The Key to Opening up the Economy*"
   ]
  },
  {
   "cell_type": "markdown",
   "metadata": {},
   "source": [
    "Reference paper: __[A COVID-19 Reopening Readiness Index: The Key to Opening up the Economy](https://www.medrxiv.org/content/10.1101/2020.05.22.20110577v2.full.pdf)__\n",
    "\n",
    "variables:\n",
    "- mortality\n",
    "- hospitalizations\n",
    "- testing capacity\n",
    "- number of infections\n",
    "- infection rate\n",
    "\n",
    "Other papers about reopening readiness\n",
    "- __[Using random testing in a feedback-control loop to manage a safe exit from the\n",
    "COVID-19 lockdown](https://www.medrxiv.org/content/10.1101/2020.04.09.20059360v2.full.pdf)__"
   ]
  },
  {
   "cell_type": "code",
   "execution_count": 32,
   "metadata": {},
   "outputs": [],
   "source": [
    "import pandas as pd\n",
    "import datetime\n",
    "import matplotlib.pyplot as plt # matplotlib.pyplot plots data\n",
    "\n",
    "%matplotlib inline"
   ]
  },
  {
   "cell_type": "markdown",
   "metadata": {},
   "source": [
    "**Data from John Hopkins Whiting School of Engineering** <br>\n",
    "Novel Coronavirus (COVID-19) Cases, provided by JHU CSSE<br>\n",
    "URL: [CSSEGISandData](https://github.com/CSSEGISandData/COVID-19)"
   ]
  },
  {
   "cell_type": "markdown",
   "metadata": {},
   "source": [
    "**The COVID Tracking Project**<br>\n",
    "URL: [US data](https://covidtracking.com/data/download)\n",
    "\n",
    "We are using the state data. Deprecated variables are:\n",
    "* checkTimeEt\n",
    "* commercialScore\n",
    "* dateChecked\n",
    "* dateModified\n",
    "* grade\n",
    "* hash\n",
    "* hospitalized\n",
    "* negativeIncrease\n",
    "* negativeRegularScore\n",
    "* negativeScore\n",
    "* posNeg\n",
    "* positiveScore\n",
    "* score\n",
    "* total\n",
    "\n",
    "**Metadata**\n",
    "\n",
    "| variable | type | description | Nulls? |\n",
    "|:-|:-|:-|:-|\n",
    "| dataQualityGrade | string | The COVID Tracking Project grade of the completeness of the data reporting by a state. | No |\n",
    "| date | integer | Date on which data was collected by The COVID Tracking Project. | No |\n",
    "| death | integer | Total fatalities with confirmed OR probable COVID-19 case diagnosis (per the expanded [CSTE case definition](https://cdn.ymaws.com/www.cste.org/resource/resmgr/2020ps/Interim-20-ID-01_COVID-19.pdf) of April 5th, 2020 [approved by the CDC](https://wwwn.cdc.gov/nndss/conditions/coronavirus-disease-2019-covid-19/case-definition/2020/)). In states where the information is available, it only tracks fatalities with confirmed OR probable COVID-19 case diagnosis where COVID-19 is an underlying cause of death according to the death certificate based on [WHO guidelines](https://www.who.int/classifications/icd/Guidelines_Cause_of_Death_COVID-19.pdf?ua=1). | Yes |\n",
    "| deathConfirmed | integer | Total fatalities with confirmed COVID-19 case diagnosis (per the expanded [CSTE case definition](https://cdn.ymaws.com/www.cste.org/resource/resmgr/2020ps/Interim-20-ID-01_COVID-19.pdf) of April 5th, 2020 [approved by the CDC](https://wwwn.cdc.gov/nndss/conditions/coronavirus-disease-2019-covid-19/case-definition/2020/)). In states where the information is available, it only tracks fatalities with confirmed COVID-19 case diagnosis where COVID-19 is an underlying cause of death according to the death certificate based on [WHO guidelines](https://www.who.int/classifications/icd/Guidelines_Cause_of_Death_COVID-19.pdf?ua=1). | Yes |\n",
    "| deathIncrease | integer | Daily difference in death | Yes |\n",
    "| deathProbable | integer | Total fatalities with probable COVID-19 case diagnosis (per the expanded [CSTE case definition](https://cdn.ymaws.com/www.cste.org/resource/resmgr/2020ps/Interim-20-ID-01_COVID-19.pdf) of April 5th, 2020 [approved by the CDC](https://wwwn.cdc.gov/nndss/conditions/coronavirus-disease-2019-covid-19/case-definition/2020/). In states where the information is available, it only tracks fatalities with probable COVID-19 case diagnosis where COVID-19 is an underlying cause of death according to the death certificate based on [WHO guidelines](https://www.who.int/classifications/icd/Guidelines_Cause_of_Death_COVID-19.pdf?ua=1). | Yes |\n",
    "| fips | integer | Federal Information Processing Standards (FIPS) code for the state or territory. | Yes |\n",
    "| hospitalizedCumulative | integer | Total number of individuals who have ever been hospitalized with COVID-19. Definitions vary by state / territory. Where possible, we report hospitalizations with confirmed or probable COVID-19 cases per the expanded [CSTE case definition](https://cdn.ymaws.com/www.cste.org/resource/resmgr/2020ps/Interim-20-ID-01_COVID-19.pdf) of April 5th, 2020 [approved by the CDC](https://wwwn.cdc.gov/nndss/conditions/coronavirus-disease-2019-covid-19/case-definition/2020/). | No |\n",
    "| hospitalizedCurrently | integer | Individuals who are currently hospitalized with COVID-19. Definitions vary by state / territory. Where possible, we report hospitalizations with confirmed or probable COVID-19 cases per the expanded [CSTE case definition](https://cdn.ymaws.com/www.cste.org/resource/resmgr/2020ps/Interim-20-ID-01_COVID-19.pdf) of April 5th, 2020 [approved by the CDC](https://wwwn.cdc.gov/nndss/conditions/coronavirus-disease-2019-covid-19/case-definition/2020/). | Yes |\n",
    "| hospitalizedIncrease | integer | Daily difference in hospitalized | Yes |\n",
    "| inIcuCumulative | integer | Total number of individuals who have ever been hospitalized in the Intensive Care Unit with COVID-19. Definitions vary by state / territory. Where possible, we report patients in the ICU with confirmed or probable COVID-19 cases per the expanded [CSTE case definition](https://cdn.ymaws.com/www.cste.org/resource/resmgr/2020ps/Interim-20-ID-01_COVID-19.pdf) of April 5th, 2020 [approved by the CDC](https://wwwn.cdc.gov/nndss/conditions/coronavirus-disease-2019-covid-19/case-definition/2020/). | Yes |\n",
    "| inIcuCurrently | integer | Individuals who are currently hospitalized in the Intensive Care Unit with COVID-19. Definitions vary by state / territory. Where possible, we report patients in the ICU with confirmed or probable COVID-19 cases per the expanded [CSTE case definition](https://cdn.ymaws.com/www.cste.org/resource/resmgr/2020ps/Interim-20-ID-01_COVID-19.pdf) of April 5th, 2020 [approved by the CDC](https://wwwn.cdc.gov/nndss/conditions/coronavirus-disease-2019-covid-19/case-definition/2020/). | Yes |\n",
    "| lastUpdateEt | string | Date and time in Eastern time the state or territory last updated the data. | No |\n",
    "| negative | integer | Individuals with a completed viral test that returned a negative result. For states / territories that do not report this number directly, we compute it using one of several methods, depending on which data points the state provides. | Yes |\n",
    "| negativeTestsViral | integer | Completed viral tests that returned negative results. | Yes |\n",
    "| onVentilatorCumulative | integer | Total number of individuals who have ever been hospitalized under advanced ventilation with COVID-19. Definitions vary by state / territory. Where possible, we report patients on ventilation with confirmed or probable COVID-19 cases per the expanded [CSTE case definition](https://cdn.ymaws.com/www.cste.org/resource/resmgr/2020ps/Interim-20-ID-01_COVID-19.pdf) of April 5th, 2020 [approved by the CDC](https://wwwn.cdc.gov/nndss/conditions/coronavirus-disease-2019-covid-19/case-definition/2020/). | Yes |\n",
    "| onVentilatorCurrently | integer | Individuals who are currently hospitalized under advanced ventilation with COVID-19. Definitions vary by state / territory. Where possible, we report patients on ventilation with confirmed or probable COVID-19 cases per the expanded [CSTE case definition](https://cdn.ymaws.com/www.cste.org/resource/resmgr/2020ps/Interim-20-ID-01_COVID-19.pdf) of April 5th, 2020 [approved by the CDC](https://wwwn.cdc.gov/nndss/conditions/coronavirus-disease-2019-covid-19/case-definition/2020/). | Yes |\n",
    "| pending | integer | Tests whose results have not yet been reported. | Yes |\n",
    "| positive | integer | Individuals with confirmed or probable COVID-19 per the expanded [CSTE case definition](https://cdn.ymaws.com/www.cste.org/resource/resmgr/2020ps/Interim-20-ID-01_COVID-19.pdf) of April 5th, 2020 [approved by the CDC](https://wwwn.cdc.gov/nndss/conditions/coronavirus-disease-2019-covid-19/case-definition/2020/). | Yes |\n",
    "| positiveCasesViral | integer | Individuals with a completed viral test that returned a positive result. | Yes |\n",
    "| positiveIncrease | integer | Increase in *positive* computed by subtracting the value of *positive* from the previous day from the value of *positive* for the current day. | Yes |\n",
    "| positiveTestsViral | integer | Completed viral tests that returned positive results. | Yes |\n",
    "| recovered | integer | Individuals who have recovered from COVID-19. Definitions vary by state / territory. | Yes |\n",
    "| state | string | Two-letter abbreviation for the state or territory. | No |\n",
    "| totalTestResults | integer | Where possible, we report total tests in units of people tested, rather than units of specimens tested. Currently computed by adding _positive_ and _negative_ values because some states do not report totals and to work around different reporting cadences for cases and tests. | Yes |\n",
    "| totalTestResultsIncrease | integer | Daily Difference in totalTestResults | Yes |\n",
    "| totalTestsViral | integer | Completed viral tests. | Yes |\n",
    "\n",
    "[FIPS Codes](https://www.census.gov/library/reference/code-lists/ansi.html#par_textimage_3)"
   ]
  },
  {
   "cell_type": "code",
   "execution_count": 33,
   "metadata": {},
   "outputs": [
    {
     "data": {
      "text/html": [
       "<div>\n",
       "<style scoped>\n",
       "    .dataframe tbody tr th:only-of-type {\n",
       "        vertical-align: middle;\n",
       "    }\n",
       "\n",
       "    .dataframe tbody tr th {\n",
       "        vertical-align: top;\n",
       "    }\n",
       "\n",
       "    .dataframe thead th {\n",
       "        text-align: right;\n",
       "    }\n",
       "</style>\n",
       "<table border=\"1\" class=\"dataframe\">\n",
       "  <thead>\n",
       "    <tr style=\"text-align: right;\">\n",
       "      <th></th>\n",
       "      <th>date</th>\n",
       "      <th>state</th>\n",
       "      <th>positive</th>\n",
       "      <th>negative</th>\n",
       "      <th>pending</th>\n",
       "      <th>hospitalizedCurrently</th>\n",
       "      <th>hospitalizedCumulative</th>\n",
       "      <th>inIcuCurrently</th>\n",
       "      <th>inIcuCumulative</th>\n",
       "      <th>onVentilatorCurrently</th>\n",
       "      <th>onVentilatorCumulative</th>\n",
       "      <th>recovered</th>\n",
       "      <th>dataQualityGrade</th>\n",
       "      <th>lastUpdateEt</th>\n",
       "      <th>death</th>\n",
       "      <th>totalTestsViral</th>\n",
       "      <th>positiveTestsViral</th>\n",
       "      <th>negativeTestsViral</th>\n",
       "      <th>positiveCasesViral</th>\n",
       "      <th>deathConfirmed</th>\n",
       "      <th>deathProbable</th>\n",
       "      <th>fips</th>\n",
       "      <th>positiveIncrease</th>\n",
       "      <th>totalTestResults</th>\n",
       "      <th>totalTestResultsIncrease</th>\n",
       "      <th>deathIncrease</th>\n",
       "      <th>hospitalizedIncrease</th>\n",
       "    </tr>\n",
       "  </thead>\n",
       "  <tbody>\n",
       "    <tr>\n",
       "      <th>0</th>\n",
       "      <td>20200811</td>\n",
       "      <td>AK</td>\n",
       "      <td>4589.0</td>\n",
       "      <td>286155.0</td>\n",
       "      <td>NaN</td>\n",
       "      <td>39.0</td>\n",
       "      <td>NaN</td>\n",
       "      <td>NaN</td>\n",
       "      <td>NaN</td>\n",
       "      <td>4.0</td>\n",
       "      <td>NaN</td>\n",
       "      <td>1344.0</td>\n",
       "      <td>A</td>\n",
       "      <td>8/11/2020 00:00</td>\n",
       "      <td>26.0</td>\n",
       "      <td>290744.0</td>\n",
       "      <td>4628.0</td>\n",
       "      <td>285813.0</td>\n",
       "      <td>4589.0</td>\n",
       "      <td>26.0</td>\n",
       "      <td>NaN</td>\n",
       "      <td>2</td>\n",
       "      <td>50</td>\n",
       "      <td>290744</td>\n",
       "      <td>10401</td>\n",
       "      <td>0</td>\n",
       "      <td>0</td>\n",
       "    </tr>\n",
       "    <tr>\n",
       "      <th>1</th>\n",
       "      <td>20200811</td>\n",
       "      <td>AL</td>\n",
       "      <td>103851.0</td>\n",
       "      <td>679838.0</td>\n",
       "      <td>NaN</td>\n",
       "      <td>1506.0</td>\n",
       "      <td>12070.0</td>\n",
       "      <td>NaN</td>\n",
       "      <td>1270.0</td>\n",
       "      <td>NaN</td>\n",
       "      <td>691.0</td>\n",
       "      <td>37923.0</td>\n",
       "      <td>B</td>\n",
       "      <td>8/11/2020 11:00</td>\n",
       "      <td>1847.0</td>\n",
       "      <td>779764.0</td>\n",
       "      <td>NaN</td>\n",
       "      <td>NaN</td>\n",
       "      <td>99926.0</td>\n",
       "      <td>1781.0</td>\n",
       "      <td>66.0</td>\n",
       "      <td>1</td>\n",
       "      <td>831</td>\n",
       "      <td>783689</td>\n",
       "      <td>3122</td>\n",
       "      <td>50</td>\n",
       "      <td>0</td>\n",
       "    </tr>\n",
       "    <tr>\n",
       "      <th>2</th>\n",
       "      <td>20200811</td>\n",
       "      <td>AR</td>\n",
       "      <td>50411.0</td>\n",
       "      <td>522457.0</td>\n",
       "      <td>NaN</td>\n",
       "      <td>507.0</td>\n",
       "      <td>3401.0</td>\n",
       "      <td>NaN</td>\n",
       "      <td>NaN</td>\n",
       "      <td>116.0</td>\n",
       "      <td>450.0</td>\n",
       "      <td>42998.0</td>\n",
       "      <td>A</td>\n",
       "      <td>8/11/2020 14:55</td>\n",
       "      <td>566.0</td>\n",
       "      <td>572868.0</td>\n",
       "      <td>NaN</td>\n",
       "      <td>522457.0</td>\n",
       "      <td>50411.0</td>\n",
       "      <td>NaN</td>\n",
       "      <td>NaN</td>\n",
       "      <td>5</td>\n",
       "      <td>383</td>\n",
       "      <td>572868</td>\n",
       "      <td>3548</td>\n",
       "      <td>11</td>\n",
       "      <td>65</td>\n",
       "    </tr>\n",
       "    <tr>\n",
       "      <th>3</th>\n",
       "      <td>20200811</td>\n",
       "      <td>AS</td>\n",
       "      <td>0.0</td>\n",
       "      <td>1396.0</td>\n",
       "      <td>NaN</td>\n",
       "      <td>NaN</td>\n",
       "      <td>NaN</td>\n",
       "      <td>NaN</td>\n",
       "      <td>NaN</td>\n",
       "      <td>NaN</td>\n",
       "      <td>NaN</td>\n",
       "      <td>NaN</td>\n",
       "      <td>C</td>\n",
       "      <td>7/24/2020 00:00</td>\n",
       "      <td>0.0</td>\n",
       "      <td>NaN</td>\n",
       "      <td>NaN</td>\n",
       "      <td>NaN</td>\n",
       "      <td>0.0</td>\n",
       "      <td>NaN</td>\n",
       "      <td>NaN</td>\n",
       "      <td>60</td>\n",
       "      <td>0</td>\n",
       "      <td>1396</td>\n",
       "      <td>0</td>\n",
       "      <td>0</td>\n",
       "      <td>0</td>\n",
       "    </tr>\n",
       "    <tr>\n",
       "      <th>4</th>\n",
       "      <td>20200811</td>\n",
       "      <td>AZ</td>\n",
       "      <td>188737.0</td>\n",
       "      <td>848538.0</td>\n",
       "      <td>NaN</td>\n",
       "      <td>1574.0</td>\n",
       "      <td>19292.0</td>\n",
       "      <td>510.0</td>\n",
       "      <td>NaN</td>\n",
       "      <td>346.0</td>\n",
       "      <td>NaN</td>\n",
       "      <td>26102.0</td>\n",
       "      <td>A+</td>\n",
       "      <td>8/11/2020 00:00</td>\n",
       "      <td>4199.0</td>\n",
       "      <td>1035900.0</td>\n",
       "      <td>NaN</td>\n",
       "      <td>NaN</td>\n",
       "      <td>187362.0</td>\n",
       "      <td>3951.0</td>\n",
       "      <td>248.0</td>\n",
       "      <td>4</td>\n",
       "      <td>1214</td>\n",
       "      <td>1037275</td>\n",
       "      <td>9044</td>\n",
       "      <td>45</td>\n",
       "      <td>15</td>\n",
       "    </tr>\n",
       "  </tbody>\n",
       "</table>\n",
       "</div>"
      ],
      "text/plain": [
       "       date state  positive  negative  pending  hospitalizedCurrently  \\\n",
       "0  20200811    AK    4589.0  286155.0      NaN                   39.0   \n",
       "1  20200811    AL  103851.0  679838.0      NaN                 1506.0   \n",
       "2  20200811    AR   50411.0  522457.0      NaN                  507.0   \n",
       "3  20200811    AS       0.0    1396.0      NaN                    NaN   \n",
       "4  20200811    AZ  188737.0  848538.0      NaN                 1574.0   \n",
       "\n",
       "   hospitalizedCumulative  inIcuCurrently  inIcuCumulative  \\\n",
       "0                     NaN             NaN              NaN   \n",
       "1                 12070.0             NaN           1270.0   \n",
       "2                  3401.0             NaN              NaN   \n",
       "3                     NaN             NaN              NaN   \n",
       "4                 19292.0           510.0              NaN   \n",
       "\n",
       "   onVentilatorCurrently  onVentilatorCumulative  recovered dataQualityGrade  \\\n",
       "0                    4.0                     NaN     1344.0                A   \n",
       "1                    NaN                   691.0    37923.0                B   \n",
       "2                  116.0                   450.0    42998.0                A   \n",
       "3                    NaN                     NaN        NaN                C   \n",
       "4                  346.0                     NaN    26102.0               A+   \n",
       "\n",
       "      lastUpdateEt   death  totalTestsViral  positiveTestsViral  \\\n",
       "0  8/11/2020 00:00    26.0         290744.0              4628.0   \n",
       "1  8/11/2020 11:00  1847.0         779764.0                 NaN   \n",
       "2  8/11/2020 14:55   566.0         572868.0                 NaN   \n",
       "3  7/24/2020 00:00     0.0              NaN                 NaN   \n",
       "4  8/11/2020 00:00  4199.0        1035900.0                 NaN   \n",
       "\n",
       "   negativeTestsViral  positiveCasesViral  deathConfirmed  deathProbable  \\\n",
       "0            285813.0              4589.0            26.0            NaN   \n",
       "1                 NaN             99926.0          1781.0           66.0   \n",
       "2            522457.0             50411.0             NaN            NaN   \n",
       "3                 NaN                 0.0             NaN            NaN   \n",
       "4                 NaN            187362.0          3951.0          248.0   \n",
       "\n",
       "   fips  positiveIncrease  totalTestResults  totalTestResultsIncrease  \\\n",
       "0     2                50            290744                     10401   \n",
       "1     1               831            783689                      3122   \n",
       "2     5               383            572868                      3548   \n",
       "3    60                 0              1396                         0   \n",
       "4     4              1214           1037275                      9044   \n",
       "\n",
       "   deathIncrease  hospitalizedIncrease  \n",
       "0              0                     0  \n",
       "1             50                     0  \n",
       "2             11                    65  \n",
       "3              0                     0  \n",
       "4             45                    15  "
      ]
     },
     "execution_count": 33,
     "metadata": {},
     "output_type": "execute_result"
    }
   ],
   "source": [
    "pd.set_option('display.max_columns', None)\n",
    "\n",
    "#daily numbers for each state, from COVID tracking\n",
    "url_states = \"https://api.covidtracking.com/v1/states/daily.csv\"\n",
    "df_states = pd.read_csv(url_states, error_bad_lines=False) \n",
    "\n",
    "# drop deprecated variables\n",
    "df_states.drop(columns=['checkTimeEt','commercialScore','dateChecked','dateModified','grade',\n",
    "               'hash','hospitalized','negativeIncrease','negativeRegularScore','negativeScore','posNeg','positiveScore',\n",
    "               'score','total'], inplace=True)\n",
    "df_states.head()"
   ]
  },
  {
   "cell_type": "code",
   "execution_count": 34,
   "metadata": {},
   "outputs": [
    {
     "data": {
      "text/plain": [
       "(8921, 27)"
      ]
     },
     "execution_count": 34,
     "metadata": {},
     "output_type": "execute_result"
    }
   ],
   "source": [
    "#number of rows and columns\n",
    "df_states.shape"
   ]
  },
  {
   "cell_type": "code",
   "execution_count": 35,
   "metadata": {},
   "outputs": [
    {
     "data": {
      "text/plain": [
       "date                           0\n",
       "state                          0\n",
       "positive                      15\n",
       "negative                     156\n",
       "pending                     7807\n",
       "hospitalizedCurrently       2615\n",
       "hospitalizedCumulative      4069\n",
       "inIcuCurrently              5632\n",
       "inIcuCumulative             7597\n",
       "onVentilatorCurrently       6064\n",
       "onVentilatorCumulative      8451\n",
       "recovered                   3267\n",
       "dataQualityGrade            1101\n",
       "lastUpdateEt                 343\n",
       "death                        698\n",
       "totalTestsViral             5388\n",
       "positiveTestsViral          7729\n",
       "negativeTestsViral          7695\n",
       "positiveCasesViral          3080\n",
       "deathConfirmed              5754\n",
       "deathProbable               6852\n",
       "fips                           0\n",
       "positiveIncrease               0\n",
       "totalTestResults               0\n",
       "totalTestResultsIncrease       0\n",
       "deathIncrease                  0\n",
       "hospitalizedIncrease           0\n",
       "dtype: int64"
      ]
     },
     "execution_count": 35,
     "metadata": {},
     "output_type": "execute_result"
    }
   ],
   "source": [
    "# check for null values\n",
    "df_states.isnull().sum()"
   ]
  },
  {
   "cell_type": "code",
   "execution_count": 36,
   "metadata": {},
   "outputs": [
    {
     "data": {
      "text/plain": [
       "date                           0\n",
       "state                          0\n",
       "positive                      15\n",
       "negative                     156\n",
       "hospitalizedCurrently       2615\n",
       "hospitalizedCumulative      4069\n",
       "recovered                   3267\n",
       "dataQualityGrade            1101\n",
       "lastUpdateEt                 343\n",
       "death                        698\n",
       "positiveCasesViral          3080\n",
       "fips                           0\n",
       "positiveIncrease               0\n",
       "totalTestResults               0\n",
       "totalTestResultsIncrease       0\n",
       "deathIncrease                  0\n",
       "hospitalizedIncrease           0\n",
       "dtype: int64"
      ]
     },
     "execution_count": 36,
     "metadata": {},
     "output_type": "execute_result"
    }
   ],
   "source": [
    "# drop variables with over 5k nulls\n",
    "df_states.drop(columns=['pending','inIcuCurrently','inIcuCumulative','onVentilatorCurrently','onVentilatorCumulative',\n",
    "               'totalTestsViral','positiveTestsViral','negativeTestsViral','deathConfirmed','deathProbable'],\n",
    "               inplace=True)\n",
    "# check for null values\n",
    "df_states.isnull().sum()"
   ]
  },
  {
   "cell_type": "code",
   "execution_count": 37,
   "metadata": {},
   "outputs": [
    {
     "data": {
      "text/plain": [
       "date                        0\n",
       "state                       0\n",
       "positive                   15\n",
       "negative                  156\n",
       "hospitalizedCurrently    2615\n",
       "death                     698\n",
       "fips                        0\n",
       "totalTestResults            0\n",
       "dtype: int64"
      ]
     },
     "execution_count": 37,
     "metadata": {},
     "output_type": "execute_result"
    }
   ],
   "source": [
    "df_states.drop(columns=['hospitalizedCumulative','recovered','dataQualityGrade','lastUpdateEt','positiveCasesViral',\n",
    "               'positiveIncrease','totalTestResultsIncrease','deathIncrease','hospitalizedIncrease'],\n",
    "               inplace=True)\n",
    "# check for null values\n",
    "df_states.isnull().sum()"
   ]
  },
  {
   "cell_type": "code",
   "execution_count": 38,
   "metadata": {},
   "outputs": [],
   "source": [
    " def plot_corr(df, size=11):\n",
    "    \"\"\"\n",
    "    Function plots a graphical correlation matrix for each pair of columns in the dataframe. \n",
    "    Shows the relationship between features.\n",
    "\n",
    "    Input:\n",
    "        df: pandas DataFrame\n",
    "        size: vertical and horizontal size of the plot\n",
    "\n",
    "    Displays:\n",
    "        matrix of correlation between columns.  \n",
    "                                                0 ------------------>  1\n",
    "                                                Expect a line running from top left to bottom right\n",
    "    \"\"\"\n",
    "\n",
    "    corr = df.corr()    # data frame correlation function\n",
    "    fig, ax = plt.subplots(figsize=(size, size))\n",
    "    ax.matshow(corr)   # color code the rectangles by correlation value\n",
    "    plt.xticks(range(len(corr.columns)), corr.columns)  # draw x tick marks\n",
    "    plt.yticks(range(len(corr.columns)), corr.columns)  # draw y tick marks"
   ]
  },
  {
   "cell_type": "code",
   "execution_count": 30,
   "metadata": {},
   "outputs": [
    {
     "data": {
      "image/png": "[encoded data removed]",
      "text/plain": [
       "<Figure size 792x792 with 1 Axes>"
      ]
     },
     "metadata": {
      "needs_background": "light"
     },
     "output_type": "display_data"
    }
   ],
   "source": [
    "plot_corr(df_states)"
   ]
  },
  {
   "cell_type": "code",
   "execution_count": 39,
   "metadata": {},
   "outputs": [],
   "source": [
    "df_states.drop(columns=['negative'],inplace=True)"
   ]
  },
  {
   "cell_type": "code",
   "execution_count": 40,
   "metadata": {},
   "outputs": [
    {
     "data": {
      "image/png": "[encoded data removed]",
      "text/plain": [
       "<Figure size 792x792 with 1 Axes>"
      ]
     },
     "metadata": {
      "needs_background": "light"
     },
     "output_type": "display_data"
    }
   ],
   "source": [
    "plot_corr(df_states)"
   ]
  },
  {
   "cell_type": "code",
   "execution_count": null,
   "metadata": {},
   "outputs": [],
   "source": [
    "# CASES: Create rolling three-day averages of the number of daily positive cases<br>\n",
    "# INFECTION RATE: Create rolling three-day averages of the number of daily positive tests as a percent of total tests<br>\n",
    "# MORTALITY: Create rolling three-day averages of the number of daily death counts\n",
    "# HOSPITALIZATIONS: Create rolling three-day averages of the number of daily hospitalized cases<br>\n",
    "# TESTING CAPACITY: Create rolling three-day averages of the number of daily tests"
   ]
  }
 ],
 "metadata": {
  "kernelspec": {
   "display_name": "Python 3",
   "language": "python",
   "name": "python3"
  },
  "language_info": {
   "codemirror_mode": {
    "name": "ipython",
    "version": 3
   },
   "file_extension": ".py",
   "mimetype": "text/x-python",
   "name": "python",
   "nbconvert_exporter": "python",
   "pygments_lexer": "ipython3",
   "version": "3.8.3"
  }
 },
 "nbformat": 4,
 "nbformat_minor": 4
}
