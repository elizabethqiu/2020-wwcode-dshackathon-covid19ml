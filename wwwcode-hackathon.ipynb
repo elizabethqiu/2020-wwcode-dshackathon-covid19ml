{
 "cells": [
  {
   "cell_type": "markdown",
   "metadata": {},
   "source": [
    "# Problem Statement\n",
    "Create an standardized index to catagorize the risk level of covid-19 spread in communities. Based on the paper [A COVID-19 Reopening Readiness Index: The Key to Opening up the Economy](https://www.medrxiv.org/content/10.1101/2020.05.22.20110577v2.full.pdf) found in [Corid-19 Search](https://cord19.aws/)"
   ]
  },
  {
   "cell_type": "markdown",
   "metadata": {},
   "source": [
    "<hr>\n",
    "<p>Use the following indicators to determine a composite index</p>\n",
    "\n",
    "- mortality\n",
    "- hospitalizations\n",
    "- testing capacity\n",
    "- number of infections\n",
    "- infection rate\n",
    "\n",
    "<hr>"
   ]
  },
  {
   "cell_type": "markdown",
   "metadata": {},
   "source": [
    "### Datasets used\n",
    "\n",
    "<p>[The COVID Tracking Project, States](https://covidtracking.com/data/download)</p>\n",
    "\n",
    "**AWS Data Exchange: Rearc USA Hospital Beds - COVID-19 | Definitive Healthcare**\n",
    "<p>This dataset is intended to be used as a baseline for understanding the typical bed capacity and average yearly bed utilization of hospitals reporting such information. The date of last update received from each hospital may be varied. While the dataset is not updated in real-time, this information is critical for understanding the impact of a high utilization event, like COVID-19.<p>"
   ]
  },
  {
   "cell_type": "markdown",
   "metadata": {},
   "source": [
    "### FIPS\n",
    "Information about FIPS codes: [FIPS Codes](https://www.census.gov/library/reference/code-lists/ansi.html#par_textimage_3)"
   ]
  },
  {
   "cell_type": "markdown",
   "metadata": {},
   "source": [
    "### Datasets reviewed, but not used\n",
    "<p>but may be able to use in the future</p>\n",
    "\n",
    "**Data from John Hopkins Whiting School of Engineering** <br>\n",
    "Novel Coronavirus (COVID-19) Cases, provided by JHU CSSE<br>\n",
    "URL: [CSSEGISandData](https://github.com/CSSEGISandData/COVID-19)\n",
    "\n"
   ]
  },
  {
   "cell_type": "markdown",
   "metadata": {},
   "source": [
    "<hr>\n",
    "\n",
    "**The COVID Tracking Project**<br>\n",
    "URL: [US data](https://covidtracking.com/data/download)\n",
    "\n",
    "We are using the state data. Deprecated variables are:\n",
    "* checkTimeEt\n",
    "* commercialScore\n",
    "* dateChecked\n",
    "* dateModified\n",
    "* grade\n",
    "* hash\n",
    "* hospitalized\n",
    "* negativeIncrease\n",
    "* negativeRegularScore\n",
    "* negativeScore\n",
    "* posNeg\n",
    "* positiveScore\n",
    "* score\n",
    "* total\n",
    "\n",
    "**Metadata**\n",
    "\n",
    "| variable | type | description | Nulls? |\n",
    "|:-|:-|:-|:-|\n",
    "| dataQualityGrade | string | The COVID Tracking Project grade of the completeness of the data reporting by a state. | No |\n",
    "| date | integer | Date on which data was collected by The COVID Tracking Project. | No |\n",
    "| death | integer | Total fatalities with confirmed OR probable COVID-19 case diagnosis (per the expanded [CSTE case definition](https://cdn.ymaws.com/www.cste.org/resource/resmgr/2020ps/Interim-20-ID-01_COVID-19.pdf) of April 5th, 2020 [approved by the CDC](https://wwwn.cdc.gov/nndss/conditions/coronavirus-disease-2019-covid-19/case-definition/2020/)). In states where the information is available, it only tracks fatalities with confirmed OR probable COVID-19 case diagnosis where COVID-19 is an underlying cause of death according to the death certificate based on [WHO guidelines](https://www.who.int/classifications/icd/Guidelines_Cause_of_Death_COVID-19.pdf?ua=1). | Yes |\n",
    "| deathConfirmed | integer | Total fatalities with confirmed COVID-19 case diagnosis (per the expanded [CSTE case definition](https://cdn.ymaws.com/www.cste.org/resource/resmgr/2020ps/Interim-20-ID-01_COVID-19.pdf) of April 5th, 2020 [approved by the CDC](https://wwwn.cdc.gov/nndss/conditions/coronavirus-disease-2019-covid-19/case-definition/2020/)). In states where the information is available, it only tracks fatalities with confirmed COVID-19 case diagnosis where COVID-19 is an underlying cause of death according to the death certificate based on [WHO guidelines](https://www.who.int/classifications/icd/Guidelines_Cause_of_Death_COVID-19.pdf?ua=1). | Yes |\n",
    "| deathIncrease | integer | Daily difference in death | Yes |\n",
    "| deathProbable | integer | Total fatalities with probable COVID-19 case diagnosis (per the expanded [CSTE case definition](https://cdn.ymaws.com/www.cste.org/resource/resmgr/2020ps/Interim-20-ID-01_COVID-19.pdf) of April 5th, 2020 [approved by the CDC](https://wwwn.cdc.gov/nndss/conditions/coronavirus-disease-2019-covid-19/case-definition/2020/). In states where the information is available, it only tracks fatalities with probable COVID-19 case diagnosis where COVID-19 is an underlying cause of death according to the death certificate based on [WHO guidelines](https://www.who.int/classifications/icd/Guidelines_Cause_of_Death_COVID-19.pdf?ua=1). | Yes |\n",
    "| fips | integer | Federal Information Processing Standards (FIPS) code for the state or territory. | Yes |\n",
    "| hospitalizedCumulative | integer | Total number of individuals who have ever been hospitalized with COVID-19. Definitions vary by state / territory. Where possible, we report hospitalizations with confirmed or probable COVID-19 cases per the expanded [CSTE case definition](https://cdn.ymaws.com/www.cste.org/resource/resmgr/2020ps/Interim-20-ID-01_COVID-19.pdf) of April 5th, 2020 [approved by the CDC](https://wwwn.cdc.gov/nndss/conditions/coronavirus-disease-2019-covid-19/case-definition/2020/). | No |\n",
    "| hospitalizedCurrently | integer | Individuals who are currently hospitalized with COVID-19. Definitions vary by state / territory. Where possible, we report hospitalizations with confirmed or probable COVID-19 cases per the expanded [CSTE case definition](https://cdn.ymaws.com/www.cste.org/resource/resmgr/2020ps/Interim-20-ID-01_COVID-19.pdf) of April 5th, 2020 [approved by the CDC](https://wwwn.cdc.gov/nndss/conditions/coronavirus-disease-2019-covid-19/case-definition/2020/). | Yes |\n",
    "| hospitalizedIncrease | integer | Daily difference in hospitalized | Yes |\n",
    "| inIcuCumulative | integer | Total number of individuals who have ever been hospitalized in the Intensive Care Unit with COVID-19. Definitions vary by state / territory. Where possible, we report patients in the ICU with confirmed or probable COVID-19 cases per the expanded [CSTE case definition](https://cdn.ymaws.com/www.cste.org/resource/resmgr/2020ps/Interim-20-ID-01_COVID-19.pdf) of April 5th, 2020 [approved by the CDC](https://wwwn.cdc.gov/nndss/conditions/coronavirus-disease-2019-covid-19/case-definition/2020/). | Yes |\n",
    "| inIcuCurrently | integer | Individuals who are currently hospitalized in the Intensive Care Unit with COVID-19. Definitions vary by state / territory. Where possible, we report patients in the ICU with confirmed or probable COVID-19 cases per the expanded [CSTE case definition](https://cdn.ymaws.com/www.cste.org/resource/resmgr/2020ps/Interim-20-ID-01_COVID-19.pdf) of April 5th, 2020 [approved by the CDC](https://wwwn.cdc.gov/nndss/conditions/coronavirus-disease-2019-covid-19/case-definition/2020/). | Yes |\n",
    "| lastUpdateEt | string | Date and time in Eastern time the state or territory last updated the data. | No |\n",
    "| negative | integer | Individuals with a completed viral test that returned a negative result. For states / territories that do not report this number directly, we compute it using one of several methods, depending on which data points the state provides. | Yes |\n",
    "| negativeTestsViral | integer | Completed viral tests that returned negative results. | Yes |\n",
    "| onVentilatorCumulative | integer | Total number of individuals who have ever been hospitalized under advanced ventilation with COVID-19. Definitions vary by state / territory. Where possible, we report patients on ventilation with confirmed or probable COVID-19 cases per the expanded [CSTE case definition](https://cdn.ymaws.com/www.cste.org/resource/resmgr/2020ps/Interim-20-ID-01_COVID-19.pdf) of April 5th, 2020 [approved by the CDC](https://wwwn.cdc.gov/nndss/conditions/coronavirus-disease-2019-covid-19/case-definition/2020/). | Yes |\n",
    "| onVentilatorCurrently | integer | Individuals who are currently hospitalized under advanced ventilation with COVID-19. Definitions vary by state / territory. Where possible, we report patients on ventilation with confirmed or probable COVID-19 cases per the expanded [CSTE case definition](https://cdn.ymaws.com/www.cste.org/resource/resmgr/2020ps/Interim-20-ID-01_COVID-19.pdf) of April 5th, 2020 [approved by the CDC](https://wwwn.cdc.gov/nndss/conditions/coronavirus-disease-2019-covid-19/case-definition/2020/). | Yes |\n",
    "| pending | integer | Tests whose results have not yet been reported. | Yes |\n",
    "| positive | integer | Individuals with confirmed or probable COVID-19 per the expanded [CSTE case definition](https://cdn.ymaws.com/www.cste.org/resource/resmgr/2020ps/Interim-20-ID-01_COVID-19.pdf) of April 5th, 2020 [approved by the CDC](https://wwwn.cdc.gov/nndss/conditions/coronavirus-disease-2019-covid-19/case-definition/2020/). | Yes |\n",
    "| positiveCasesViral | integer | Individuals with a completed viral test that returned a positive result. | Yes |\n",
    "| positiveIncrease | integer | Increase in *positive* computed by subtracting the value of *positive* from the previous day from the value of *positive* for the current day. | Yes |\n",
    "| positiveTestsViral | integer | Completed viral tests that returned positive results. | Yes |\n",
    "| recovered | integer | Individuals who have recovered from COVID-19. Definitions vary by state / territory. | Yes |\n",
    "| state | string | Two-letter abbreviation for the state or territory. | No |\n",
    "| totalTestResults | integer | Where possible, we report total tests in units of people tested, rather than units of specimens tested. Currently computed by adding _positive_ and _negative_ values because some states do not report totals and to work around different reporting cadences for cases and tests. | Yes |\n",
    "| totalTestResultsIncrease | integer | Daily Difference in totalTestResults | Yes |\n",
    "| totalTestsViral | integer | Completed viral tests. | Yes |\n"
   ]
  },
  {
   "cell_type": "code",
   "execution_count": 1,
   "metadata": {},
   "outputs": [],
   "source": [
    "import pandas as pd\n",
    "import numpy as np\n",
    "import datetime\n",
    "from sklearn.model_selection import train_test_split\n",
    "from sklearn.linear_model import LinearRegression\n",
    "import matplotlib.pyplot as plt # matplotlib.pyplot plots data\n",
    "\n",
    "%matplotlib inline"
   ]
  },
  {
   "cell_type": "code",
   "execution_count": 2,
   "metadata": {},
   "outputs": [
    {
     "data": {
      "text/html": [
       "<div>\n",
       "<style scoped>\n",
       "    .dataframe tbody tr th:only-of-type {\n",
       "        vertical-align: middle;\n",
       "    }\n",
       "\n",
       "    .dataframe tbody tr th {\n",
       "        vertical-align: top;\n",
       "    }\n",
       "\n",
       "    .dataframe thead th {\n",
       "        text-align: right;\n",
       "    }\n",
       "</style>\n",
       "<table border=\"1\" class=\"dataframe\">\n",
       "  <thead>\n",
       "    <tr style=\"text-align: right;\">\n",
       "      <th></th>\n",
       "      <th>date</th>\n",
       "      <th>state</th>\n",
       "      <th>positive</th>\n",
       "      <th>negative</th>\n",
       "      <th>pending</th>\n",
       "      <th>hospitalizedCurrently</th>\n",
       "      <th>hospitalizedCumulative</th>\n",
       "      <th>inIcuCurrently</th>\n",
       "      <th>inIcuCumulative</th>\n",
       "      <th>onVentilatorCurrently</th>\n",
       "      <th>onVentilatorCumulative</th>\n",
       "      <th>recovered</th>\n",
       "      <th>dataQualityGrade</th>\n",
       "      <th>lastUpdateEt</th>\n",
       "      <th>death</th>\n",
       "      <th>totalTestsViral</th>\n",
       "      <th>positiveTestsViral</th>\n",
       "      <th>negativeTestsViral</th>\n",
       "      <th>positiveCasesViral</th>\n",
       "      <th>deathConfirmed</th>\n",
       "      <th>deathProbable</th>\n",
       "      <th>totalTestEncountersViral</th>\n",
       "      <th>totalTestsPeopleViral</th>\n",
       "      <th>totalTestsAntibody</th>\n",
       "      <th>positiveTestsAntibody</th>\n",
       "      <th>negativeTestsAntibody</th>\n",
       "      <th>totalTestsPeopleAntibody</th>\n",
       "      <th>positiveTestsPeopleAntibody</th>\n",
       "      <th>negativeTestsPeopleAntibody</th>\n",
       "      <th>totalTestsPeopleAntigen</th>\n",
       "      <th>positiveTestsPeopleAntigen</th>\n",
       "      <th>totalTestsAntigen</th>\n",
       "      <th>positiveTestsAntigen</th>\n",
       "      <th>fips</th>\n",
       "      <th>positiveIncrease</th>\n",
       "      <th>totalTestResults</th>\n",
       "      <th>totalTestResultsIncrease</th>\n",
       "      <th>deathIncrease</th>\n",
       "      <th>hospitalizedIncrease</th>\n",
       "    </tr>\n",
       "  </thead>\n",
       "  <tbody>\n",
       "    <tr>\n",
       "      <th>0</th>\n",
       "      <td>20200813</td>\n",
       "      <td>AK</td>\n",
       "      <td>4750.0</td>\n",
       "      <td>289303.0</td>\n",
       "      <td>NaN</td>\n",
       "      <td>46.0</td>\n",
       "      <td>NaN</td>\n",
       "      <td>NaN</td>\n",
       "      <td>NaN</td>\n",
       "      <td>3.0</td>\n",
       "      <td>NaN</td>\n",
       "      <td>1360.0</td>\n",
       "      <td>A</td>\n",
       "      <td>8/13/2020 00:00</td>\n",
       "      <td>27.0</td>\n",
       "      <td>294053.0</td>\n",
       "      <td>4662.0</td>\n",
       "      <td>289088.0</td>\n",
       "      <td>4750.0</td>\n",
       "      <td>27.0</td>\n",
       "      <td>NaN</td>\n",
       "      <td>NaN</td>\n",
       "      <td>NaN</td>\n",
       "      <td>NaN</td>\n",
       "      <td>NaN</td>\n",
       "      <td>NaN</td>\n",
       "      <td>NaN</td>\n",
       "      <td>NaN</td>\n",
       "      <td>NaN</td>\n",
       "      <td>NaN</td>\n",
       "      <td>NaN</td>\n",
       "      <td>NaN</td>\n",
       "      <td>NaN</td>\n",
       "      <td>2</td>\n",
       "      <td>95</td>\n",
       "      <td>294053.0</td>\n",
       "      <td>1471</td>\n",
       "      <td>0</td>\n",
       "      <td>0</td>\n",
       "    </tr>\n",
       "    <tr>\n",
       "      <th>1</th>\n",
       "      <td>20200813</td>\n",
       "      <td>AL</td>\n",
       "      <td>105557.0</td>\n",
       "      <td>697005.0</td>\n",
       "      <td>NaN</td>\n",
       "      <td>1365.0</td>\n",
       "      <td>12456.0</td>\n",
       "      <td>NaN</td>\n",
       "      <td>1292.0</td>\n",
       "      <td>NaN</td>\n",
       "      <td>707.0</td>\n",
       "      <td>41523.0</td>\n",
       "      <td>B</td>\n",
       "      <td>8/13/2020 11:00</td>\n",
       "      <td>1890.0</td>\n",
       "      <td>798501.0</td>\n",
       "      <td>NaN</td>\n",
       "      <td>NaN</td>\n",
       "      <td>101496.0</td>\n",
       "      <td>1821.0</td>\n",
       "      <td>69.0</td>\n",
       "      <td>NaN</td>\n",
       "      <td>NaN</td>\n",
       "      <td>NaN</td>\n",
       "      <td>NaN</td>\n",
       "      <td>NaN</td>\n",
       "      <td>NaN</td>\n",
       "      <td>NaN</td>\n",
       "      <td>NaN</td>\n",
       "      <td>NaN</td>\n",
       "      <td>NaN</td>\n",
       "      <td>NaN</td>\n",
       "      <td>NaN</td>\n",
       "      <td>1</td>\n",
       "      <td>771</td>\n",
       "      <td>802562.0</td>\n",
       "      <td>6791</td>\n",
       "      <td>8</td>\n",
       "      <td>164</td>\n",
       "    </tr>\n",
       "    <tr>\n",
       "      <th>2</th>\n",
       "      <td>20200813</td>\n",
       "      <td>AR</td>\n",
       "      <td>51766.0</td>\n",
       "      <td>531714.0</td>\n",
       "      <td>NaN</td>\n",
       "      <td>473.0</td>\n",
       "      <td>3566.0</td>\n",
       "      <td>NaN</td>\n",
       "      <td>NaN</td>\n",
       "      <td>112.0</td>\n",
       "      <td>466.0</td>\n",
       "      <td>44602.0</td>\n",
       "      <td>A</td>\n",
       "      <td>8/13/2020 14:32</td>\n",
       "      <td>582.0</td>\n",
       "      <td>583480.0</td>\n",
       "      <td>NaN</td>\n",
       "      <td>531714.0</td>\n",
       "      <td>51766.0</td>\n",
       "      <td>NaN</td>\n",
       "      <td>NaN</td>\n",
       "      <td>NaN</td>\n",
       "      <td>NaN</td>\n",
       "      <td>NaN</td>\n",
       "      <td>NaN</td>\n",
       "      <td>NaN</td>\n",
       "      <td>NaN</td>\n",
       "      <td>NaN</td>\n",
       "      <td>NaN</td>\n",
       "      <td>NaN</td>\n",
       "      <td>NaN</td>\n",
       "      <td>1836.0</td>\n",
       "      <td>NaN</td>\n",
       "      <td>5</td>\n",
       "      <td>652</td>\n",
       "      <td>583480.0</td>\n",
       "      <td>9909</td>\n",
       "      <td>16</td>\n",
       "      <td>94</td>\n",
       "    </tr>\n",
       "    <tr>\n",
       "      <th>3</th>\n",
       "      <td>20200813</td>\n",
       "      <td>AS</td>\n",
       "      <td>0.0</td>\n",
       "      <td>1396.0</td>\n",
       "      <td>NaN</td>\n",
       "      <td>NaN</td>\n",
       "      <td>NaN</td>\n",
       "      <td>NaN</td>\n",
       "      <td>NaN</td>\n",
       "      <td>NaN</td>\n",
       "      <td>NaN</td>\n",
       "      <td>NaN</td>\n",
       "      <td>C</td>\n",
       "      <td>8/5/2020 00:00</td>\n",
       "      <td>0.0</td>\n",
       "      <td>NaN</td>\n",
       "      <td>NaN</td>\n",
       "      <td>NaN</td>\n",
       "      <td>0.0</td>\n",
       "      <td>NaN</td>\n",
       "      <td>NaN</td>\n",
       "      <td>NaN</td>\n",
       "      <td>1396.0</td>\n",
       "      <td>NaN</td>\n",
       "      <td>NaN</td>\n",
       "      <td>NaN</td>\n",
       "      <td>NaN</td>\n",
       "      <td>NaN</td>\n",
       "      <td>NaN</td>\n",
       "      <td>NaN</td>\n",
       "      <td>NaN</td>\n",
       "      <td>NaN</td>\n",
       "      <td>NaN</td>\n",
       "      <td>60</td>\n",
       "      <td>0</td>\n",
       "      <td>1396.0</td>\n",
       "      <td>0</td>\n",
       "      <td>0</td>\n",
       "      <td>0</td>\n",
       "    </tr>\n",
       "    <tr>\n",
       "      <th>4</th>\n",
       "      <td>20200813</td>\n",
       "      <td>AZ</td>\n",
       "      <td>190794.0</td>\n",
       "      <td>867384.0</td>\n",
       "      <td>NaN</td>\n",
       "      <td>1411.0</td>\n",
       "      <td>20503.0</td>\n",
       "      <td>497.0</td>\n",
       "      <td>NaN</td>\n",
       "      <td>334.0</td>\n",
       "      <td>NaN</td>\n",
       "      <td>26736.0</td>\n",
       "      <td>A+</td>\n",
       "      <td>8/13/2020 00:00</td>\n",
       "      <td>4383.0</td>\n",
       "      <td>1056770.0</td>\n",
       "      <td>NaN</td>\n",
       "      <td>NaN</td>\n",
       "      <td>189386.0</td>\n",
       "      <td>4130.0</td>\n",
       "      <td>253.0</td>\n",
       "      <td>NaN</td>\n",
       "      <td>NaN</td>\n",
       "      <td>246800.0</td>\n",
       "      <td>NaN</td>\n",
       "      <td>NaN</td>\n",
       "      <td>NaN</td>\n",
       "      <td>NaN</td>\n",
       "      <td>NaN</td>\n",
       "      <td>NaN</td>\n",
       "      <td>NaN</td>\n",
       "      <td>NaN</td>\n",
       "      <td>NaN</td>\n",
       "      <td>4</td>\n",
       "      <td>1351</td>\n",
       "      <td>1058178.0</td>\n",
       "      <td>13950</td>\n",
       "      <td>36</td>\n",
       "      <td>682</td>\n",
       "    </tr>\n",
       "  </tbody>\n",
       "</table>\n",
       "</div>"
      ],
      "text/plain": [
       "       date state  positive  negative  pending  hospitalizedCurrently  \\\n",
       "0  20200813    AK    4750.0  289303.0      NaN                   46.0   \n",
       "1  20200813    AL  105557.0  697005.0      NaN                 1365.0   \n",
       "2  20200813    AR   51766.0  531714.0      NaN                  473.0   \n",
       "3  20200813    AS       0.0    1396.0      NaN                    NaN   \n",
       "4  20200813    AZ  190794.0  867384.0      NaN                 1411.0   \n",
       "\n",
       "   hospitalizedCumulative  inIcuCurrently  inIcuCumulative  \\\n",
       "0                     NaN             NaN              NaN   \n",
       "1                 12456.0             NaN           1292.0   \n",
       "2                  3566.0             NaN              NaN   \n",
       "3                     NaN             NaN              NaN   \n",
       "4                 20503.0           497.0              NaN   \n",
       "\n",
       "   onVentilatorCurrently  onVentilatorCumulative  recovered dataQualityGrade  \\\n",
       "0                    3.0                     NaN     1360.0                A   \n",
       "1                    NaN                   707.0    41523.0                B   \n",
       "2                  112.0                   466.0    44602.0                A   \n",
       "3                    NaN                     NaN        NaN                C   \n",
       "4                  334.0                     NaN    26736.0               A+   \n",
       "\n",
       "      lastUpdateEt   death  totalTestsViral  positiveTestsViral  \\\n",
       "0  8/13/2020 00:00    27.0         294053.0              4662.0   \n",
       "1  8/13/2020 11:00  1890.0         798501.0                 NaN   \n",
       "2  8/13/2020 14:32   582.0         583480.0                 NaN   \n",
       "3   8/5/2020 00:00     0.0              NaN                 NaN   \n",
       "4  8/13/2020 00:00  4383.0        1056770.0                 NaN   \n",
       "\n",
       "   negativeTestsViral  positiveCasesViral  deathConfirmed  deathProbable  \\\n",
       "0            289088.0              4750.0            27.0            NaN   \n",
       "1                 NaN            101496.0          1821.0           69.0   \n",
       "2            531714.0             51766.0             NaN            NaN   \n",
       "3                 NaN                 0.0             NaN            NaN   \n",
       "4                 NaN            189386.0          4130.0          253.0   \n",
       "\n",
       "   totalTestEncountersViral  totalTestsPeopleViral  totalTestsAntibody  \\\n",
       "0                       NaN                    NaN                 NaN   \n",
       "1                       NaN                    NaN                 NaN   \n",
       "2                       NaN                    NaN                 NaN   \n",
       "3                       NaN                 1396.0                 NaN   \n",
       "4                       NaN                    NaN            246800.0   \n",
       "\n",
       "   positiveTestsAntibody  negativeTestsAntibody  totalTestsPeopleAntibody  \\\n",
       "0                    NaN                    NaN                       NaN   \n",
       "1                    NaN                    NaN                       NaN   \n",
       "2                    NaN                    NaN                       NaN   \n",
       "3                    NaN                    NaN                       NaN   \n",
       "4                    NaN                    NaN                       NaN   \n",
       "\n",
       "   positiveTestsPeopleAntibody  negativeTestsPeopleAntibody  \\\n",
       "0                          NaN                          NaN   \n",
       "1                          NaN                          NaN   \n",
       "2                          NaN                          NaN   \n",
       "3                          NaN                          NaN   \n",
       "4                          NaN                          NaN   \n",
       "\n",
       "   totalTestsPeopleAntigen  positiveTestsPeopleAntigen  totalTestsAntigen  \\\n",
       "0                      NaN                         NaN                NaN   \n",
       "1                      NaN                         NaN                NaN   \n",
       "2                      NaN                         NaN             1836.0   \n",
       "3                      NaN                         NaN                NaN   \n",
       "4                      NaN                         NaN                NaN   \n",
       "\n",
       "   positiveTestsAntigen  fips  positiveIncrease  totalTestResults  \\\n",
       "0                   NaN     2                95          294053.0   \n",
       "1                   NaN     1               771          802562.0   \n",
       "2                   NaN     5               652          583480.0   \n",
       "3                   NaN    60                 0            1396.0   \n",
       "4                   NaN     4              1351         1058178.0   \n",
       "\n",
       "   totalTestResultsIncrease  deathIncrease  hospitalizedIncrease  \n",
       "0                      1471              0                     0  \n",
       "1                      6791              8                   164  \n",
       "2                      9909             16                    94  \n",
       "3                         0              0                     0  \n",
       "4                     13950             36                   682  "
      ]
     },
     "execution_count": 2,
     "metadata": {},
     "output_type": "execute_result"
    }
   ],
   "source": [
    "pd.set_option('display.max_columns', None)\n",
    "\n",
    "#daily numbers for each state, from COVID tracking\n",
    "url_states = \"https://api.covidtracking.com/v1/states/daily.csv\"\n",
    "df_states = pd.read_csv(url_states, error_bad_lines=False) \n",
    "\n",
    "# drop deprecated variables\n",
    "df_states.drop(columns=['checkTimeEt','commercialScore','dateChecked','dateModified','grade',\n",
    "               'hash','hospitalized','negativeIncrease','negativeRegularScore','negativeScore','posNeg','positiveScore',\n",
    "               'score','total'], inplace=True)\n",
    "df_states.head()"
   ]
  },
  {
   "cell_type": "code",
   "execution_count": 3,
   "metadata": {},
   "outputs": [
    {
     "data": {
      "text/plain": [
       "(9033, 39)"
      ]
     },
     "execution_count": 3,
     "metadata": {},
     "output_type": "execute_result"
    }
   ],
   "source": [
    "#number of rows and columns\n",
    "df_states.shape"
   ]
  },
  {
   "cell_type": "code",
   "execution_count": 4,
   "metadata": {},
   "outputs": [
    {
     "data": {
      "text/plain": [
       "date                              0\n",
       "state                             0\n",
       "positive                         15\n",
       "negative                        156\n",
       "pending                        7911\n",
       "hospitalizedCurrently          2621\n",
       "hospitalizedCumulative         4107\n",
       "inIcuCurrently                 5676\n",
       "inIcuCumulative                7687\n",
       "onVentilatorCurrently          6120\n",
       "onVentilatorCumulative         8555\n",
       "recovered                      3283\n",
       "dataQualityGrade               1101\n",
       "lastUpdateEt                    343\n",
       "death                           698\n",
       "totalTestsViral                5305\n",
       "positiveTestsViral             7815\n",
       "negativeTestsViral             7779\n",
       "positiveCasesViral             3094\n",
       "deathConfirmed                 5805\n",
       "deathProbable                  6917\n",
       "totalTestEncountersViral       8775\n",
       "totalTestsPeopleViral          5370\n",
       "totalTestsAntibody             7842\n",
       "positiveTestsAntibody          8162\n",
       "negativeTestsAntibody          8374\n",
       "totalTestsPeopleAntibody       8578\n",
       "positiveTestsPeopleAntibody    8741\n",
       "negativeTestsPeopleAntibody    8741\n",
       "totalTestsPeopleAntigen        9031\n",
       "positiveTestsPeopleAntigen     9033\n",
       "totalTestsAntigen              9007\n",
       "positiveTestsAntigen           9026\n",
       "fips                              0\n",
       "positiveIncrease                  0\n",
       "totalTestResults                  7\n",
       "totalTestResultsIncrease          0\n",
       "deathIncrease                     0\n",
       "hospitalizedIncrease              0\n",
       "dtype: int64"
      ]
     },
     "execution_count": 4,
     "metadata": {},
     "output_type": "execute_result"
    }
   ],
   "source": [
    "# check for null values\n",
    "df_states.isnull().sum()"
   ]
  },
  {
   "cell_type": "code",
   "execution_count": 5,
   "metadata": {},
   "outputs": [
    {
     "data": {
      "text/plain": [
       "date                           0\n",
       "state                          0\n",
       "positive                      15\n",
       "negative                     156\n",
       "hospitalizedCurrently       2621\n",
       "hospitalizedCumulative      4107\n",
       "recovered                   3283\n",
       "dataQualityGrade            1101\n",
       "lastUpdateEt                 343\n",
       "death                        698\n",
       "positiveCasesViral          3094\n",
       "fips                           0\n",
       "positiveIncrease               0\n",
       "totalTestResults               7\n",
       "totalTestResultsIncrease       0\n",
       "deathIncrease                  0\n",
       "hospitalizedIncrease           0\n",
       "dtype: int64"
      ]
     },
     "execution_count": 5,
     "metadata": {},
     "output_type": "execute_result"
    }
   ],
   "source": [
    "# drop variables with over 5k nulls\n",
    "df_states.drop(columns=['pending','inIcuCurrently','inIcuCumulative','onVentilatorCurrently','onVentilatorCumulative',\n",
    "               'totalTestsViral','positiveTestsViral','negativeTestsViral','deathConfirmed','deathProbable',\n",
    "        'totalTestEncountersViral','totalTestsPeopleViral','totalTestsAntibody','positiveTestsAntibody',\n",
    "        'negativeTestsAntibody','totalTestsPeopleAntigen','positiveTestsPeopleAntigen','totalTestsAntigen',\n",
    "        'totalTestsPeopleAntibody','positiveTestsPeopleAntibody','negativeTestsPeopleAntibody',\n",
    "        'positiveTestsAntigen'],\n",
    "               inplace=True)\n",
    "# check for null values\n",
    "df_states.isnull().sum()"
   ]
  },
  {
   "cell_type": "code",
   "execution_count": 6,
   "metadata": {},
   "outputs": [
    {
     "data": {
      "text/plain": [
       "date                        0\n",
       "state                       0\n",
       "positive                   15\n",
       "negative                  156\n",
       "hospitalizedCurrently    2621\n",
       "death                     698\n",
       "fips                        0\n",
       "totalTestResults            7\n",
       "dtype: int64"
      ]
     },
     "execution_count": 6,
     "metadata": {},
     "output_type": "execute_result"
    }
   ],
   "source": [
    "df_states.drop(columns=['hospitalizedCumulative','recovered','dataQualityGrade','lastUpdateEt','positiveCasesViral',\n",
    "        'positiveIncrease','totalTestResultsIncrease','deathIncrease','hospitalizedIncrease'],\n",
    "               inplace=True)\n",
    "# check for null values\n",
    "df_states.isnull().sum()"
   ]
  },
  {
   "cell_type": "code",
   "execution_count": 7,
   "metadata": {},
   "outputs": [
    {
     "data": {
      "image/png": "[encoded data removed]",
      "text/plain": [
       "<Figure size 720x720 with 1 Axes>"
      ]
     },
     "metadata": {
      "needs_background": "light"
     },
     "output_type": "display_data"
    }
   ],
   "source": [
    "hist = df_states.plot.hist(figsize=(10,10),layout=(3,4))"
   ]
  },
  {
   "cell_type": "code",
   "execution_count": 8,
   "metadata": {},
   "outputs": [],
   "source": [
    " def plot_corr(df, size=11):\n",
    "    \"\"\"\n",
    "    Function plots a graphical correlation matrix for each pair of columns in the dataframe. \n",
    "    Shows the relationship between features.\n",
    "\n",
    "    Input:\n",
    "        df: pandas DataFrame\n",
    "        size: vertical and horizontal size of the plot\n",
    "\n",
    "    Displays:\n",
    "        matrix of correlation between columns.  \n",
    "                                                0 ------------------>  1\n",
    "                                                Expect a line running from top left to bottom right\n",
    "    \"\"\"\n",
    "\n",
    "    corr = df.corr()    # data frame correlation function\n",
    "    fig, ax = plt.subplots(figsize=(size, size))\n",
    "    ax.matshow(corr)   # color code the rectangles by correlation value\n",
    "    plt.xticks(range(len(corr.columns)), corr.columns, rotation='vertical')  # draw x tick marks\n",
    "    plt.yticks(range(len(corr.columns)), corr.columns)  # draw y tick marks"
   ]
  },
  {
   "cell_type": "code",
   "execution_count": 9,
   "metadata": {},
   "outputs": [
    {
     "data": {
      "image/png": "[encoded data removed]",
      "text/plain": [
       "<Figure size 792x792 with 1 Axes>"
      ]
     },
     "metadata": {
      "needs_background": "light"
     },
     "output_type": "display_data"
    }
   ],
   "source": [
    "plot_corr(df_states)"
   ]
  },
  {
   "cell_type": "code",
   "execution_count": 10,
   "metadata": {},
   "outputs": [],
   "source": [
    "df_states.drop(columns=['negative'],inplace=True)\n",
    "\n",
    "#drop records with no hospitalizations or deaths\n",
    "df_states.dropna(subset=['hospitalizedCurrently'], inplace=True)\n",
    "df_states.dropna(subset=['death'], inplace=True)"
   ]
  },
  {
   "cell_type": "code",
   "execution_count": 11,
   "metadata": {},
   "outputs": [
    {
     "data": {
      "image/png": "[encoded data removed]",
      "text/plain": [
       "<Figure size 792x792 with 1 Axes>"
      ]
     },
     "metadata": {
      "needs_background": "light"
     },
     "output_type": "display_data"
    }
   ],
   "source": [
    "plot_corr(df_states)"
   ]
  },
  {
   "cell_type": "code",
   "execution_count": 12,
   "metadata": {},
   "outputs": [
    {
     "data": {
      "text/html": [
       "<style  type=\"text/css\" >\n",
       "    #T_c6b85e28_de75_11ea_b717_c4b301b74411row0_col0 {\n",
       "            background-color:  #b40426;\n",
       "            color:  #f1f1f1;\n",
       "        }    #T_c6b85e28_de75_11ea_b717_c4b301b74411row0_col1 {\n",
       "            background-color:  #b5cdfa;\n",
       "            color:  #000000;\n",
       "        }    #T_c6b85e28_de75_11ea_b717_c4b301b74411row0_col2 {\n",
       "            background-color:  #4a63d3;\n",
       "            color:  #f1f1f1;\n",
       "        }    #T_c6b85e28_de75_11ea_b717_c4b301b74411row0_col3 {\n",
       "            background-color:  #82a6fb;\n",
       "            color:  #000000;\n",
       "        }    #T_c6b85e28_de75_11ea_b717_c4b301b74411row0_col4 {\n",
       "            background-color:  #5e7de7;\n",
       "            color:  #000000;\n",
       "        }    #T_c6b85e28_de75_11ea_b717_c4b301b74411row0_col5 {\n",
       "            background-color:  #ccd9ed;\n",
       "            color:  #000000;\n",
       "        }    #T_c6b85e28_de75_11ea_b717_c4b301b74411row1_col0 {\n",
       "            background-color:  #adc9fd;\n",
       "            color:  #000000;\n",
       "        }    #T_c6b85e28_de75_11ea_b717_c4b301b74411row1_col1 {\n",
       "            background-color:  #b40426;\n",
       "            color:  #f1f1f1;\n",
       "        }    #T_c6b85e28_de75_11ea_b717_c4b301b74411row1_col2 {\n",
       "            background-color:  #f7b79b;\n",
       "            color:  #000000;\n",
       "        }    #T_c6b85e28_de75_11ea_b717_c4b301b74411row1_col3 {\n",
       "            background-color:  #e8765c;\n",
       "            color:  #000000;\n",
       "        }    #T_c6b85e28_de75_11ea_b717_c4b301b74411row1_col4 {\n",
       "            background-color:  #3e51c5;\n",
       "            color:  #f1f1f1;\n",
       "        }    #T_c6b85e28_de75_11ea_b717_c4b301b74411row1_col5 {\n",
       "            background-color:  #d44e41;\n",
       "            color:  #000000;\n",
       "        }    #T_c6b85e28_de75_11ea_b717_c4b301b74411row2_col0 {\n",
       "            background-color:  #3b4cc0;\n",
       "            color:  #f1f1f1;\n",
       "        }    #T_c6b85e28_de75_11ea_b717_c4b301b74411row2_col1 {\n",
       "            background-color:  #f7b89c;\n",
       "            color:  #000000;\n",
       "        }    #T_c6b85e28_de75_11ea_b717_c4b301b74411row2_col2 {\n",
       "            background-color:  #b40426;\n",
       "            color:  #f1f1f1;\n",
       "        }    #T_c6b85e28_de75_11ea_b717_c4b301b74411row2_col3 {\n",
       "            background-color:  #cad8ef;\n",
       "            color:  #000000;\n",
       "        }    #T_c6b85e28_de75_11ea_b717_c4b301b74411row2_col4 {\n",
       "            background-color:  #3b4cc0;\n",
       "            color:  #f1f1f1;\n",
       "        }    #T_c6b85e28_de75_11ea_b717_c4b301b74411row2_col5 {\n",
       "            background-color:  #e0dbd8;\n",
       "            color:  #000000;\n",
       "        }    #T_c6b85e28_de75_11ea_b717_c4b301b74411row3_col0 {\n",
       "            background-color:  #81a4fb;\n",
       "            color:  #000000;\n",
       "        }    #T_c6b85e28_de75_11ea_b717_c4b301b74411row3_col1 {\n",
       "            background-color:  #e7745b;\n",
       "            color:  #000000;\n",
       "        }    #T_c6b85e28_de75_11ea_b717_c4b301b74411row3_col2 {\n",
       "            background-color:  #d2dbe8;\n",
       "            color:  #000000;\n",
       "        }    #T_c6b85e28_de75_11ea_b717_c4b301b74411row3_col3 {\n",
       "            background-color:  #b40426;\n",
       "            color:  #f1f1f1;\n",
       "        }    #T_c6b85e28_de75_11ea_b717_c4b301b74411row3_col4 {\n",
       "            background-color:  #485fd1;\n",
       "            color:  #f1f1f1;\n",
       "        }    #T_c6b85e28_de75_11ea_b717_c4b301b74411row3_col5 {\n",
       "            background-color:  #f7ac8e;\n",
       "            color:  #000000;\n",
       "        }    #T_c6b85e28_de75_11ea_b717_c4b301b74411row4_col0 {\n",
       "            background-color:  #4f69d9;\n",
       "            color:  #000000;\n",
       "        }    #T_c6b85e28_de75_11ea_b717_c4b301b74411row4_col1 {\n",
       "            background-color:  #3b4cc0;\n",
       "            color:  #f1f1f1;\n",
       "        }    #T_c6b85e28_de75_11ea_b717_c4b301b74411row4_col2 {\n",
       "            background-color:  #3b4cc0;\n",
       "            color:  #f1f1f1;\n",
       "        }    #T_c6b85e28_de75_11ea_b717_c4b301b74411row4_col3 {\n",
       "            background-color:  #3b4cc0;\n",
       "            color:  #f1f1f1;\n",
       "        }    #T_c6b85e28_de75_11ea_b717_c4b301b74411row4_col4 {\n",
       "            background-color:  #b40426;\n",
       "            color:  #f1f1f1;\n",
       "        }    #T_c6b85e28_de75_11ea_b717_c4b301b74411row4_col5 {\n",
       "            background-color:  #3b4cc0;\n",
       "            color:  #f1f1f1;\n",
       "        }    #T_c6b85e28_de75_11ea_b717_c4b301b74411row5_col0 {\n",
       "            background-color:  #c5d6f2;\n",
       "            color:  #000000;\n",
       "        }    #T_c6b85e28_de75_11ea_b717_c4b301b74411row5_col1 {\n",
       "            background-color:  #d44e41;\n",
       "            color:  #000000;\n",
       "        }    #T_c6b85e28_de75_11ea_b717_c4b301b74411row5_col2 {\n",
       "            background-color:  #e2dad5;\n",
       "            color:  #000000;\n",
       "        }    #T_c6b85e28_de75_11ea_b717_c4b301b74411row5_col3 {\n",
       "            background-color:  #f7af91;\n",
       "            color:  #000000;\n",
       "        }    #T_c6b85e28_de75_11ea_b717_c4b301b74411row5_col4 {\n",
       "            background-color:  #3e51c5;\n",
       "            color:  #f1f1f1;\n",
       "        }    #T_c6b85e28_de75_11ea_b717_c4b301b74411row5_col5 {\n",
       "            background-color:  #b40426;\n",
       "            color:  #f1f1f1;\n",
       "        }</style><table id=\"T_c6b85e28_de75_11ea_b717_c4b301b74411\" ><thead>    <tr>        <th class=\"blank level0\" ></th>        <th class=\"col_heading level0 col0\" >date</th>        <th class=\"col_heading level0 col1\" >positive</th>        <th class=\"col_heading level0 col2\" >hospitalizedCurrently</th>        <th class=\"col_heading level0 col3\" >death</th>        <th class=\"col_heading level0 col4\" >fips</th>        <th class=\"col_heading level0 col5\" >totalTestResults</th>    </tr></thead><tbody>\n",
       "                <tr>\n",
       "                        <th id=\"T_c6b85e28_de75_11ea_b717_c4b301b74411level0_row0\" class=\"row_heading level0 row0\" >date</th>\n",
       "                        <td id=\"T_c6b85e28_de75_11ea_b717_c4b301b74411row0_col0\" class=\"data row0 col0\" >1.000000</td>\n",
       "                        <td id=\"T_c6b85e28_de75_11ea_b717_c4b301b74411row0_col1\" class=\"data row0 col1\" >0.305893</td>\n",
       "                        <td id=\"T_c6b85e28_de75_11ea_b717_c4b301b74411row0_col2\" class=\"data row0 col2\" >-0.051923</td>\n",
       "                        <td id=\"T_c6b85e28_de75_11ea_b717_c4b301b74411row0_col3\" class=\"data row0 col3\" >0.176953</td>\n",
       "                        <td id=\"T_c6b85e28_de75_11ea_b717_c4b301b74411row0_col4\" class=\"data row0 col4\" >0.020214</td>\n",
       "                        <td id=\"T_c6b85e28_de75_11ea_b717_c4b301b74411row0_col5\" class=\"data row0 col5\" >0.386700</td>\n",
       "            </tr>\n",
       "            <tr>\n",
       "                        <th id=\"T_c6b85e28_de75_11ea_b717_c4b301b74411level0_row1\" class=\"row_heading level0 row1\" >positive</th>\n",
       "                        <td id=\"T_c6b85e28_de75_11ea_b717_c4b301b74411row1_col0\" class=\"data row1 col0\" >0.305893</td>\n",
       "                        <td id=\"T_c6b85e28_de75_11ea_b717_c4b301b74411row1_col1\" class=\"data row1 col1\" >1.000000</td>\n",
       "                        <td id=\"T_c6b85e28_de75_11ea_b717_c4b301b74411row1_col2\" class=\"data row1 col2\" >0.635665</td>\n",
       "                        <td id=\"T_c6b85e28_de75_11ea_b717_c4b301b74411row1_col3\" class=\"data row1 col3\" >0.818467</td>\n",
       "                        <td id=\"T_c6b85e28_de75_11ea_b717_c4b301b74411row1_col4\" class=\"data row1 col4\" >-0.094138</td>\n",
       "                        <td id=\"T_c6b85e28_de75_11ea_b717_c4b301b74411row1_col5\" class=\"data row1 col5\" >0.899990</td>\n",
       "            </tr>\n",
       "            <tr>\n",
       "                        <th id=\"T_c6b85e28_de75_11ea_b717_c4b301b74411level0_row2\" class=\"row_heading level0 row2\" >hospitalizedCurrently</th>\n",
       "                        <td id=\"T_c6b85e28_de75_11ea_b717_c4b301b74411row2_col0\" class=\"data row2 col0\" >-0.051923</td>\n",
       "                        <td id=\"T_c6b85e28_de75_11ea_b717_c4b301b74411row2_col1\" class=\"data row2 col1\" >0.635665</td>\n",
       "                        <td id=\"T_c6b85e28_de75_11ea_b717_c4b301b74411row2_col2\" class=\"data row2 col2\" >1.000000</td>\n",
       "                        <td id=\"T_c6b85e28_de75_11ea_b717_c4b301b74411row2_col3\" class=\"data row2 col3\" >0.399966</td>\n",
       "                        <td id=\"T_c6b85e28_de75_11ea_b717_c4b301b74411row2_col4\" class=\"data row2 col4\" >-0.108547</td>\n",
       "                        <td id=\"T_c6b85e28_de75_11ea_b717_c4b301b74411row2_col5\" class=\"data row2 col5\" >0.467964</td>\n",
       "            </tr>\n",
       "            <tr>\n",
       "                        <th id=\"T_c6b85e28_de75_11ea_b717_c4b301b74411level0_row3\" class=\"row_heading level0 row3\" >death</th>\n",
       "                        <td id=\"T_c6b85e28_de75_11ea_b717_c4b301b74411row3_col0\" class=\"data row3 col0\" >0.176953</td>\n",
       "                        <td id=\"T_c6b85e28_de75_11ea_b717_c4b301b74411row3_col1\" class=\"data row3 col1\" >0.818467</td>\n",
       "                        <td id=\"T_c6b85e28_de75_11ea_b717_c4b301b74411row3_col2\" class=\"data row3 col2\" >0.399966</td>\n",
       "                        <td id=\"T_c6b85e28_de75_11ea_b717_c4b301b74411row3_col3\" class=\"data row3 col3\" >1.000000</td>\n",
       "                        <td id=\"T_c6b85e28_de75_11ea_b717_c4b301b74411row3_col4\" class=\"data row3 col4\" >-0.057191</td>\n",
       "                        <td id=\"T_c6b85e28_de75_11ea_b717_c4b301b74411row3_col5\" class=\"data row3 col5\" >0.674178</td>\n",
       "            </tr>\n",
       "            <tr>\n",
       "                        <th id=\"T_c6b85e28_de75_11ea_b717_c4b301b74411level0_row4\" class=\"row_heading level0 row4\" >fips</th>\n",
       "                        <td id=\"T_c6b85e28_de75_11ea_b717_c4b301b74411row4_col0\" class=\"data row4 col0\" >0.020214</td>\n",
       "                        <td id=\"T_c6b85e28_de75_11ea_b717_c4b301b74411row4_col1\" class=\"data row4 col1\" >-0.094138</td>\n",
       "                        <td id=\"T_c6b85e28_de75_11ea_b717_c4b301b74411row4_col2\" class=\"data row4 col2\" >-0.108547</td>\n",
       "                        <td id=\"T_c6b85e28_de75_11ea_b717_c4b301b74411row4_col3\" class=\"data row4 col3\" >-0.057191</td>\n",
       "                        <td id=\"T_c6b85e28_de75_11ea_b717_c4b301b74411row4_col4\" class=\"data row4 col4\" >1.000000</td>\n",
       "                        <td id=\"T_c6b85e28_de75_11ea_b717_c4b301b74411row4_col5\" class=\"data row4 col5\" >-0.092787</td>\n",
       "            </tr>\n",
       "            <tr>\n",
       "                        <th id=\"T_c6b85e28_de75_11ea_b717_c4b301b74411level0_row5\" class=\"row_heading level0 row5\" >totalTestResults</th>\n",
       "                        <td id=\"T_c6b85e28_de75_11ea_b717_c4b301b74411row5_col0\" class=\"data row5 col0\" >0.386700</td>\n",
       "                        <td id=\"T_c6b85e28_de75_11ea_b717_c4b301b74411row5_col1\" class=\"data row5 col1\" >0.899990</td>\n",
       "                        <td id=\"T_c6b85e28_de75_11ea_b717_c4b301b74411row5_col2\" class=\"data row5 col2\" >0.467964</td>\n",
       "                        <td id=\"T_c6b85e28_de75_11ea_b717_c4b301b74411row5_col3\" class=\"data row5 col3\" >0.674178</td>\n",
       "                        <td id=\"T_c6b85e28_de75_11ea_b717_c4b301b74411row5_col4\" class=\"data row5 col4\" >-0.092787</td>\n",
       "                        <td id=\"T_c6b85e28_de75_11ea_b717_c4b301b74411row5_col5\" class=\"data row5 col5\" >1.000000</td>\n",
       "            </tr>\n",
       "    </tbody></table>"
      ],
      "text/plain": [
       "<pandas.io.formats.style.Styler at 0x7fad785442e0>"
      ]
     },
     "execution_count": 12,
     "metadata": {},
     "output_type": "execute_result"
    }
   ],
   "source": [
    "#correlations\n",
    "corr = df_states.corr()\n",
    "corr.style.background_gradient(cmap=\"coolwarm\")"
   ]
  },
  {
   "cell_type": "markdown",
   "metadata": {},
   "source": [
    "<hr>\n",
    "\n",
    "**AWS Data Exchange: USA Hospital Beds | Definitive Healthcare**<br>\n",
    "Download date: 8/13/2020<br>"
   ]
  },
  {
   "cell_type": "code",
   "execution_count": 13,
   "metadata": {},
   "outputs": [],
   "source": [
    "#AWS Data Exchange: USA Hospital Beds | Definitive Healthcare\n",
    "#Download date: 8/13/2020\n",
    "\n",
    "df_hospital_beds = pd.read_csv(\"usa-hospital-beds_dataset_usa-hospital-beds.csv\")"
   ]
  },
  {
   "cell_type": "code",
   "execution_count": 14,
   "metadata": {},
   "outputs": [
    {
     "data": {
      "text/html": [
       "<div>\n",
       "<style scoped>\n",
       "    .dataframe tbody tr th:only-of-type {\n",
       "        vertical-align: middle;\n",
       "    }\n",
       "\n",
       "    .dataframe tbody tr th {\n",
       "        vertical-align: top;\n",
       "    }\n",
       "\n",
       "    .dataframe thead th {\n",
       "        text-align: right;\n",
       "    }\n",
       "</style>\n",
       "<table border=\"1\" class=\"dataframe\">\n",
       "  <thead>\n",
       "    <tr style=\"text-align: right;\">\n",
       "      <th></th>\n",
       "      <th>X</th>\n",
       "      <th>Y</th>\n",
       "      <th>OBJECTID</th>\n",
       "      <th>HOSPITAL_NAME</th>\n",
       "      <th>HOSPITAL_TYPE</th>\n",
       "      <th>HQ_ADDRESS</th>\n",
       "      <th>HQ_ADDRESS1</th>\n",
       "      <th>HQ_CITY</th>\n",
       "      <th>HQ_STATE</th>\n",
       "      <th>HQ_ZIP_CODE</th>\n",
       "      <th>COUNTY_NAME</th>\n",
       "      <th>STATE_NAME</th>\n",
       "      <th>STATE_FIPS</th>\n",
       "      <th>CNTY_FIPS</th>\n",
       "      <th>FIPS</th>\n",
       "      <th>NUM_LICENSED_BEDS</th>\n",
       "      <th>NUM_STAFFED_BEDS</th>\n",
       "      <th>NUM_ICU_BEDS</th>\n",
       "      <th>ADULT_ICU_BEDS</th>\n",
       "      <th>PEDI_ICU_BEDS</th>\n",
       "      <th>BED_UTILIZATION</th>\n",
       "      <th>Potential_Increase_In_Bed_Capac</th>\n",
       "      <th>AVG_VENTILATOR_USAGE</th>\n",
       "    </tr>\n",
       "  </thead>\n",
       "  <tbody>\n",
       "    <tr>\n",
       "      <th>0</th>\n",
       "      <td>-112.066157</td>\n",
       "      <td>33.495498</td>\n",
       "      <td>1</td>\n",
       "      <td>Phoenix VA Health Care System (AKA Carl T Hayd...</td>\n",
       "      <td>VA Hospital</td>\n",
       "      <td>650 E Indian School Rd</td>\n",
       "      <td>NaN</td>\n",
       "      <td>Phoenix</td>\n",
       "      <td>AZ</td>\n",
       "      <td>85012</td>\n",
       "      <td>Maricopa</td>\n",
       "      <td>Arizona</td>\n",
       "      <td>4.0</td>\n",
       "      <td>13.0</td>\n",
       "      <td>4013.0</td>\n",
       "      <td>62.0</td>\n",
       "      <td>62.0</td>\n",
       "      <td>0</td>\n",
       "      <td>0</td>\n",
       "      <td>NaN</td>\n",
       "      <td>NaN</td>\n",
       "      <td>0</td>\n",
       "      <td>0</td>\n",
       "    </tr>\n",
       "    <tr>\n",
       "      <th>1</th>\n",
       "      <td>-110.965885</td>\n",
       "      <td>32.181263</td>\n",
       "      <td>2</td>\n",
       "      <td>Southern Arizona VA Health Care System</td>\n",
       "      <td>VA Hospital</td>\n",
       "      <td>3601 S 6th Ave</td>\n",
       "      <td>NaN</td>\n",
       "      <td>Tucson</td>\n",
       "      <td>AZ</td>\n",
       "      <td>85723</td>\n",
       "      <td>Pima</td>\n",
       "      <td>Arizona</td>\n",
       "      <td>4.0</td>\n",
       "      <td>19.0</td>\n",
       "      <td>4019.0</td>\n",
       "      <td>295.0</td>\n",
       "      <td>295.0</td>\n",
       "      <td>2</td>\n",
       "      <td>2</td>\n",
       "      <td>NaN</td>\n",
       "      <td>NaN</td>\n",
       "      <td>0</td>\n",
       "      <td>2</td>\n",
       "    </tr>\n",
       "    <tr>\n",
       "      <th>2</th>\n",
       "      <td>-119.779742</td>\n",
       "      <td>36.773323</td>\n",
       "      <td>3</td>\n",
       "      <td>VA Central California Health Care System</td>\n",
       "      <td>VA Hospital</td>\n",
       "      <td>2615 E Clinton Ave</td>\n",
       "      <td>NaN</td>\n",
       "      <td>Fresno</td>\n",
       "      <td>CA</td>\n",
       "      <td>93703</td>\n",
       "      <td>Fresno</td>\n",
       "      <td>California</td>\n",
       "      <td>6.0</td>\n",
       "      <td>19.0</td>\n",
       "      <td>6019.0</td>\n",
       "      <td>54.0</td>\n",
       "      <td>54.0</td>\n",
       "      <td>2</td>\n",
       "      <td>2</td>\n",
       "      <td>NaN</td>\n",
       "      <td>NaN</td>\n",
       "      <td>0</td>\n",
       "      <td>2</td>\n",
       "    </tr>\n",
       "    <tr>\n",
       "      <th>3</th>\n",
       "      <td>-72.957610</td>\n",
       "      <td>41.284400</td>\n",
       "      <td>4</td>\n",
       "      <td>VA Connecticut Healthcare System - West Haven ...</td>\n",
       "      <td>VA Hospital</td>\n",
       "      <td>950 Campbell Ave</td>\n",
       "      <td>NaN</td>\n",
       "      <td>West Haven</td>\n",
       "      <td>CT</td>\n",
       "      <td>6516</td>\n",
       "      <td>New Haven</td>\n",
       "      <td>Connecticut</td>\n",
       "      <td>9.0</td>\n",
       "      <td>9.0</td>\n",
       "      <td>9009.0</td>\n",
       "      <td>216.0</td>\n",
       "      <td>216.0</td>\n",
       "      <td>1</td>\n",
       "      <td>1</td>\n",
       "      <td>NaN</td>\n",
       "      <td>NaN</td>\n",
       "      <td>0</td>\n",
       "      <td>2</td>\n",
       "    </tr>\n",
       "    <tr>\n",
       "      <th>4</th>\n",
       "      <td>-75.606533</td>\n",
       "      <td>39.740206</td>\n",
       "      <td>5</td>\n",
       "      <td>Wilmington VA Medical Center</td>\n",
       "      <td>VA Hospital</td>\n",
       "      <td>1601 Kirkwood Hwy</td>\n",
       "      <td>NaN</td>\n",
       "      <td>Wilmington</td>\n",
       "      <td>DE</td>\n",
       "      <td>19805</td>\n",
       "      <td>New Castle</td>\n",
       "      <td>Delaware</td>\n",
       "      <td>10.0</td>\n",
       "      <td>3.0</td>\n",
       "      <td>10003.0</td>\n",
       "      <td>62.0</td>\n",
       "      <td>62.0</td>\n",
       "      <td>0</td>\n",
       "      <td>0</td>\n",
       "      <td>NaN</td>\n",
       "      <td>NaN</td>\n",
       "      <td>0</td>\n",
       "      <td>1</td>\n",
       "    </tr>\n",
       "  </tbody>\n",
       "</table>\n",
       "</div>"
      ],
      "text/plain": [
       "            X          Y  OBJECTID  \\\n",
       "0 -112.066157  33.495498         1   \n",
       "1 -110.965885  32.181263         2   \n",
       "2 -119.779742  36.773323         3   \n",
       "3  -72.957610  41.284400         4   \n",
       "4  -75.606533  39.740206         5   \n",
       "\n",
       "                                       HOSPITAL_NAME HOSPITAL_TYPE  \\\n",
       "0  Phoenix VA Health Care System (AKA Carl T Hayd...   VA Hospital   \n",
       "1             Southern Arizona VA Health Care System   VA Hospital   \n",
       "2           VA Central California Health Care System   VA Hospital   \n",
       "3  VA Connecticut Healthcare System - West Haven ...   VA Hospital   \n",
       "4                       Wilmington VA Medical Center   VA Hospital   \n",
       "\n",
       "               HQ_ADDRESS HQ_ADDRESS1     HQ_CITY HQ_STATE  HQ_ZIP_CODE  \\\n",
       "0  650 E Indian School Rd         NaN     Phoenix       AZ        85012   \n",
       "1          3601 S 6th Ave         NaN      Tucson       AZ        85723   \n",
       "2      2615 E Clinton Ave         NaN      Fresno       CA        93703   \n",
       "3        950 Campbell Ave         NaN  West Haven       CT         6516   \n",
       "4       1601 Kirkwood Hwy         NaN  Wilmington       DE        19805   \n",
       "\n",
       "  COUNTY_NAME   STATE_NAME  STATE_FIPS  CNTY_FIPS     FIPS  NUM_LICENSED_BEDS  \\\n",
       "0    Maricopa      Arizona         4.0       13.0   4013.0               62.0   \n",
       "1        Pima      Arizona         4.0       19.0   4019.0              295.0   \n",
       "2      Fresno   California         6.0       19.0   6019.0               54.0   \n",
       "3   New Haven  Connecticut         9.0        9.0   9009.0              216.0   \n",
       "4  New Castle     Delaware        10.0        3.0  10003.0               62.0   \n",
       "\n",
       "   NUM_STAFFED_BEDS  NUM_ICU_BEDS  ADULT_ICU_BEDS  PEDI_ICU_BEDS  \\\n",
       "0              62.0             0               0            NaN   \n",
       "1             295.0             2               2            NaN   \n",
       "2              54.0             2               2            NaN   \n",
       "3             216.0             1               1            NaN   \n",
       "4              62.0             0               0            NaN   \n",
       "\n",
       "   BED_UTILIZATION  Potential_Increase_In_Bed_Capac  AVG_VENTILATOR_USAGE  \n",
       "0              NaN                                0                     0  \n",
       "1              NaN                                0                     2  \n",
       "2              NaN                                0                     2  \n",
       "3              NaN                                0                     2  \n",
       "4              NaN                                0                     1  "
      ]
     },
     "execution_count": 14,
     "metadata": {},
     "output_type": "execute_result"
    }
   ],
   "source": [
    "df_hospital_beds.head()"
   ]
  },
  {
   "cell_type": "code",
   "execution_count": 15,
   "metadata": {},
   "outputs": [
    {
     "data": {
      "text/plain": [
       "(6622, 23)"
      ]
     },
     "execution_count": 15,
     "metadata": {},
     "output_type": "execute_result"
    }
   ],
   "source": [
    "df_hospital_beds.shape"
   ]
  },
  {
   "cell_type": "code",
   "execution_count": 16,
   "metadata": {},
   "outputs": [
    {
     "data": {
      "text/plain": [
       "X                                    18\n",
       "Y                                    18\n",
       "OBJECTID                              0\n",
       "HOSPITAL_NAME                         0\n",
       "HOSPITAL_TYPE                         0\n",
       "HQ_ADDRESS                            0\n",
       "HQ_ADDRESS1                        6254\n",
       "HQ_CITY                               0\n",
       "HQ_STATE                              0\n",
       "HQ_ZIP_CODE                           0\n",
       "COUNTY_NAME                          25\n",
       "STATE_NAME                           25\n",
       "STATE_FIPS                           25\n",
       "CNTY_FIPS                            25\n",
       "FIPS                                 25\n",
       "NUM_LICENSED_BEDS                   152\n",
       "NUM_STAFFED_BEDS                    240\n",
       "NUM_ICU_BEDS                          0\n",
       "ADULT_ICU_BEDS                        0\n",
       "PEDI_ICU_BEDS                       739\n",
       "BED_UTILIZATION                     714\n",
       "Potential_Increase_In_Bed_Capac       0\n",
       "AVG_VENTILATOR_USAGE                  0\n",
       "dtype: int64"
      ]
     },
     "execution_count": 16,
     "metadata": {},
     "output_type": "execute_result"
    }
   ],
   "source": [
    "# check for null values\n",
    "df_hospital_beds.isnull().sum()"
   ]
  },
  {
   "cell_type": "code",
   "execution_count": 17,
   "metadata": {},
   "outputs": [],
   "source": [
    "df_hospital_beds.drop(columns=['X','Y','OBJECTID','HOSPITAL_NAME','HOSPITAL_TYPE','HQ_ADDRESS',\n",
    "                              'HQ_ADDRESS1','HQ_CITY','HQ_STATE','HQ_ZIP_CODE','COUNTY_NAME',\n",
    "                              'STATE_NAME','CNTY_FIPS','FIPS','NUM_STAFFED_BEDS',\n",
    "                              'ADULT_ICU_BEDS','PEDI_ICU_BEDS','Potential_Increase_In_Bed_Capac',\n",
    "                              'BED_UTILIZATION','AVG_VENTILATOR_USAGE'],inplace=True)"
   ]
  },
  {
   "cell_type": "code",
   "execution_count": 18,
   "metadata": {},
   "outputs": [
    {
     "data": {
      "text/html": [
       "<div>\n",
       "<style scoped>\n",
       "    .dataframe tbody tr th:only-of-type {\n",
       "        vertical-align: middle;\n",
       "    }\n",
       "\n",
       "    .dataframe tbody tr th {\n",
       "        vertical-align: top;\n",
       "    }\n",
       "\n",
       "    .dataframe thead th {\n",
       "        text-align: right;\n",
       "    }\n",
       "</style>\n",
       "<table border=\"1\" class=\"dataframe\">\n",
       "  <thead>\n",
       "    <tr style=\"text-align: right;\">\n",
       "      <th></th>\n",
       "      <th>STATE_FIPS</th>\n",
       "      <th>NUM_LICENSED_BEDS</th>\n",
       "      <th>NUM_ICU_BEDS</th>\n",
       "    </tr>\n",
       "  </thead>\n",
       "  <tbody>\n",
       "    <tr>\n",
       "      <th>0</th>\n",
       "      <td>4.0</td>\n",
       "      <td>62.0</td>\n",
       "      <td>0</td>\n",
       "    </tr>\n",
       "    <tr>\n",
       "      <th>1</th>\n",
       "      <td>4.0</td>\n",
       "      <td>295.0</td>\n",
       "      <td>2</td>\n",
       "    </tr>\n",
       "    <tr>\n",
       "      <th>2</th>\n",
       "      <td>6.0</td>\n",
       "      <td>54.0</td>\n",
       "      <td>2</td>\n",
       "    </tr>\n",
       "    <tr>\n",
       "      <th>3</th>\n",
       "      <td>9.0</td>\n",
       "      <td>216.0</td>\n",
       "      <td>1</td>\n",
       "    </tr>\n",
       "    <tr>\n",
       "      <th>4</th>\n",
       "      <td>10.0</td>\n",
       "      <td>62.0</td>\n",
       "      <td>0</td>\n",
       "    </tr>\n",
       "    <tr>\n",
       "      <th>5</th>\n",
       "      <td>11.0</td>\n",
       "      <td>164.0</td>\n",
       "      <td>1</td>\n",
       "    </tr>\n",
       "    <tr>\n",
       "      <th>6</th>\n",
       "      <td>12.0</td>\n",
       "      <td>432.0</td>\n",
       "      <td>2</td>\n",
       "    </tr>\n",
       "    <tr>\n",
       "      <th>7</th>\n",
       "      <td>16.0</td>\n",
       "      <td>46.0</td>\n",
       "      <td>1</td>\n",
       "    </tr>\n",
       "    <tr>\n",
       "      <th>8</th>\n",
       "      <td>22.0</td>\n",
       "      <td>111.0</td>\n",
       "      <td>1</td>\n",
       "    </tr>\n",
       "    <tr>\n",
       "      <th>9</th>\n",
       "      <td>28.0</td>\n",
       "      <td>160.0</td>\n",
       "      <td>10</td>\n",
       "    </tr>\n",
       "    <tr>\n",
       "      <th>10</th>\n",
       "      <td>29.0</td>\n",
       "      <td>89.0</td>\n",
       "      <td>2</td>\n",
       "    </tr>\n",
       "    <tr>\n",
       "      <th>11</th>\n",
       "      <td>35.0</td>\n",
       "      <td>163.0</td>\n",
       "      <td>1</td>\n",
       "    </tr>\n",
       "    <tr>\n",
       "      <th>12</th>\n",
       "      <td>36.0</td>\n",
       "      <td>67.0</td>\n",
       "      <td>2</td>\n",
       "    </tr>\n",
       "    <tr>\n",
       "      <th>13</th>\n",
       "      <td>36.0</td>\n",
       "      <td>311.0</td>\n",
       "      <td>2</td>\n",
       "    </tr>\n",
       "    <tr>\n",
       "      <th>14</th>\n",
       "      <td>38.0</td>\n",
       "      <td>37.0</td>\n",
       "      <td>1</td>\n",
       "    </tr>\n",
       "    <tr>\n",
       "      <th>15</th>\n",
       "      <td>41.0</td>\n",
       "      <td>NaN</td>\n",
       "      <td>0</td>\n",
       "    </tr>\n",
       "    <tr>\n",
       "      <th>16</th>\n",
       "      <td>42.0</td>\n",
       "      <td>146.0</td>\n",
       "      <td>2</td>\n",
       "    </tr>\n",
       "    <tr>\n",
       "      <th>17</th>\n",
       "      <td>1.0</td>\n",
       "      <td>85.0</td>\n",
       "      <td>6</td>\n",
       "    </tr>\n",
       "    <tr>\n",
       "      <th>18</th>\n",
       "      <td>1.0</td>\n",
       "      <td>150.0</td>\n",
       "      <td>17</td>\n",
       "    </tr>\n",
       "    <tr>\n",
       "      <th>19</th>\n",
       "      <td>1.0</td>\n",
       "      <td>58.0</td>\n",
       "      <td>4</td>\n",
       "    </tr>\n",
       "    <tr>\n",
       "      <th>20</th>\n",
       "      <td>1.0</td>\n",
       "      <td>74.0</td>\n",
       "      <td>5</td>\n",
       "    </tr>\n",
       "    <tr>\n",
       "      <th>21</th>\n",
       "      <td>1.0</td>\n",
       "      <td>35.0</td>\n",
       "      <td>4</td>\n",
       "    </tr>\n",
       "    <tr>\n",
       "      <th>22</th>\n",
       "      <td>1.0</td>\n",
       "      <td>25.0</td>\n",
       "      <td>6</td>\n",
       "    </tr>\n",
       "    <tr>\n",
       "      <th>23</th>\n",
       "      <td>1.0</td>\n",
       "      <td>61.0</td>\n",
       "      <td>5</td>\n",
       "    </tr>\n",
       "    <tr>\n",
       "      <th>24</th>\n",
       "      <td>1.0</td>\n",
       "      <td>72.0</td>\n",
       "      <td>7</td>\n",
       "    </tr>\n",
       "    <tr>\n",
       "      <th>25</th>\n",
       "      <td>1.0</td>\n",
       "      <td>125.0</td>\n",
       "      <td>6</td>\n",
       "    </tr>\n",
       "    <tr>\n",
       "      <th>26</th>\n",
       "      <td>1.0</td>\n",
       "      <td>323.0</td>\n",
       "      <td>18</td>\n",
       "    </tr>\n",
       "    <tr>\n",
       "      <th>27</th>\n",
       "      <td>1.0</td>\n",
       "      <td>115.0</td>\n",
       "      <td>15</td>\n",
       "    </tr>\n",
       "    <tr>\n",
       "      <th>28</th>\n",
       "      <td>1.0</td>\n",
       "      <td>60.0</td>\n",
       "      <td>8</td>\n",
       "    </tr>\n",
       "    <tr>\n",
       "      <th>29</th>\n",
       "      <td>1.0</td>\n",
       "      <td>50.0</td>\n",
       "      <td>4</td>\n",
       "    </tr>\n",
       "  </tbody>\n",
       "</table>\n",
       "</div>"
      ],
      "text/plain": [
       "    STATE_FIPS  NUM_LICENSED_BEDS  NUM_ICU_BEDS\n",
       "0          4.0               62.0             0\n",
       "1          4.0              295.0             2\n",
       "2          6.0               54.0             2\n",
       "3          9.0              216.0             1\n",
       "4         10.0               62.0             0\n",
       "5         11.0              164.0             1\n",
       "6         12.0              432.0             2\n",
       "7         16.0               46.0             1\n",
       "8         22.0              111.0             1\n",
       "9         28.0              160.0            10\n",
       "10        29.0               89.0             2\n",
       "11        35.0              163.0             1\n",
       "12        36.0               67.0             2\n",
       "13        36.0              311.0             2\n",
       "14        38.0               37.0             1\n",
       "15        41.0                NaN             0\n",
       "16        42.0              146.0             2\n",
       "17         1.0               85.0             6\n",
       "18         1.0              150.0            17\n",
       "19         1.0               58.0             4\n",
       "20         1.0               74.0             5\n",
       "21         1.0               35.0             4\n",
       "22         1.0               25.0             6\n",
       "23         1.0               61.0             5\n",
       "24         1.0               72.0             7\n",
       "25         1.0              125.0             6\n",
       "26         1.0              323.0            18\n",
       "27         1.0              115.0            15\n",
       "28         1.0               60.0             8\n",
       "29         1.0               50.0             4"
      ]
     },
     "execution_count": 18,
     "metadata": {},
     "output_type": "execute_result"
    }
   ],
   "source": [
    "df_hospital_beds.head(30)"
   ]
  },
  {
   "cell_type": "code",
   "execution_count": 19,
   "metadata": {},
   "outputs": [
    {
     "data": {
      "text/html": [
       "<div>\n",
       "<style scoped>\n",
       "    .dataframe tbody tr th:only-of-type {\n",
       "        vertical-align: middle;\n",
       "    }\n",
       "\n",
       "    .dataframe tbody tr th {\n",
       "        vertical-align: top;\n",
       "    }\n",
       "\n",
       "    .dataframe thead th {\n",
       "        text-align: right;\n",
       "    }\n",
       "</style>\n",
       "<table border=\"1\" class=\"dataframe\">\n",
       "  <thead>\n",
       "    <tr style=\"text-align: right;\">\n",
       "      <th></th>\n",
       "      <th>STATE_FIPS</th>\n",
       "      <th>NUM_LICENSED_BEDS</th>\n",
       "      <th>NUM_ICU_BEDS</th>\n",
       "    </tr>\n",
       "  </thead>\n",
       "  <tbody>\n",
       "    <tr>\n",
       "      <th>0</th>\n",
       "      <td>4.0</td>\n",
       "      <td>62.0</td>\n",
       "      <td>0</td>\n",
       "    </tr>\n",
       "    <tr>\n",
       "      <th>1</th>\n",
       "      <td>4.0</td>\n",
       "      <td>295.0</td>\n",
       "      <td>2</td>\n",
       "    </tr>\n",
       "    <tr>\n",
       "      <th>2</th>\n",
       "      <td>6.0</td>\n",
       "      <td>54.0</td>\n",
       "      <td>2</td>\n",
       "    </tr>\n",
       "    <tr>\n",
       "      <th>3</th>\n",
       "      <td>9.0</td>\n",
       "      <td>216.0</td>\n",
       "      <td>1</td>\n",
       "    </tr>\n",
       "    <tr>\n",
       "      <th>4</th>\n",
       "      <td>10.0</td>\n",
       "      <td>62.0</td>\n",
       "      <td>0</td>\n",
       "    </tr>\n",
       "    <tr>\n",
       "      <th>...</th>\n",
       "      <td>...</td>\n",
       "      <td>...</td>\n",
       "      <td>...</td>\n",
       "    </tr>\n",
       "    <tr>\n",
       "      <th>6617</th>\n",
       "      <td>48.0</td>\n",
       "      <td>0.0</td>\n",
       "      <td>0</td>\n",
       "    </tr>\n",
       "    <tr>\n",
       "      <th>6618</th>\n",
       "      <td>42.0</td>\n",
       "      <td>0.0</td>\n",
       "      <td>0</td>\n",
       "    </tr>\n",
       "    <tr>\n",
       "      <th>6619</th>\n",
       "      <td>48.0</td>\n",
       "      <td>0.0</td>\n",
       "      <td>0</td>\n",
       "    </tr>\n",
       "    <tr>\n",
       "      <th>6620</th>\n",
       "      <td>48.0</td>\n",
       "      <td>0.0</td>\n",
       "      <td>0</td>\n",
       "    </tr>\n",
       "    <tr>\n",
       "      <th>6621</th>\n",
       "      <td>32.0</td>\n",
       "      <td>0.0</td>\n",
       "      <td>0</td>\n",
       "    </tr>\n",
       "  </tbody>\n",
       "</table>\n",
       "<p>6622 rows × 3 columns</p>\n",
       "</div>"
      ],
      "text/plain": [
       "      STATE_FIPS  NUM_LICENSED_BEDS  NUM_ICU_BEDS\n",
       "0            4.0               62.0             0\n",
       "1            4.0              295.0             2\n",
       "2            6.0               54.0             2\n",
       "3            9.0              216.0             1\n",
       "4           10.0               62.0             0\n",
       "...          ...                ...           ...\n",
       "6617        48.0                0.0             0\n",
       "6618        42.0                0.0             0\n",
       "6619        48.0                0.0             0\n",
       "6620        48.0                0.0             0\n",
       "6621        32.0                0.0             0\n",
       "\n",
       "[6622 rows x 3 columns]"
      ]
     },
     "execution_count": 19,
     "metadata": {},
     "output_type": "execute_result"
    }
   ],
   "source": [
    "#replace NaN with 0\n",
    "df_hospital_beds = df_hospital_beds.fillna(0)\n",
    "df_hospital_beds"
   ]
  },
  {
   "cell_type": "code",
   "execution_count": 20,
   "metadata": {},
   "outputs": [],
   "source": [
    "#create a new dataframe using groupby\n",
    "grouper = df_hospital_beds.groupby('STATE_FIPS')\n",
    "df_total_hospital_beds = grouper['NUM_LICENSED_BEDS'].sum().to_frame(name = 'TOTAL_NUM_LICENSED_BEDS').reset_index()\n",
    "\n",
    "#drop the null state_fips row\n",
    "df_total_hospital_beds = df_total_hospital_beds[df_total_hospital_beds['STATE_FIPS'] != 0]"
   ]
  },
  {
   "cell_type": "code",
   "execution_count": 21,
   "metadata": {},
   "outputs": [],
   "source": [
    "#create a new dataframe using groupby\n",
    "grouper = df_hospital_beds.groupby('STATE_FIPS')\n",
    "df_total_icu_beds = grouper['NUM_ICU_BEDS'].sum().to_frame(name = 'TOTAL_NUM_ICU_BEDS').reset_index()\n",
    "\n",
    "#drop the null state_fips row\n",
    "df_total_icu_beds = df_total_icu_beds[df_total_icu_beds['STATE_FIPS'] != 0]"
   ]
  },
  {
   "cell_type": "code",
   "execution_count": 22,
   "metadata": {},
   "outputs": [],
   "source": [
    "df_states = df_states.join(df_total_hospital_beds.set_index(['STATE_FIPS'], verify_integrity=True ),on=['fips'], how='left')"
   ]
  },
  {
   "cell_type": "code",
   "execution_count": 23,
   "metadata": {},
   "outputs": [],
   "source": [
    "df_states = df_states.join(df_total_icu_beds.set_index(['STATE_FIPS'], verify_integrity=True ),on=['fips'], how='left')\n"
   ]
  },
  {
   "cell_type": "code",
   "execution_count": 24,
   "metadata": {},
   "outputs": [
    {
     "data": {
      "text/html": [
       "<div>\n",
       "<style scoped>\n",
       "    .dataframe tbody tr th:only-of-type {\n",
       "        vertical-align: middle;\n",
       "    }\n",
       "\n",
       "    .dataframe tbody tr th {\n",
       "        vertical-align: top;\n",
       "    }\n",
       "\n",
       "    .dataframe thead th {\n",
       "        text-align: right;\n",
       "    }\n",
       "</style>\n",
       "<table border=\"1\" class=\"dataframe\">\n",
       "  <thead>\n",
       "    <tr style=\"text-align: right;\">\n",
       "      <th></th>\n",
       "      <th>date</th>\n",
       "      <th>state</th>\n",
       "      <th>positive</th>\n",
       "      <th>hospitalizedCurrently</th>\n",
       "      <th>death</th>\n",
       "      <th>fips</th>\n",
       "      <th>totalTestResults</th>\n",
       "      <th>TOTAL_NUM_LICENSED_BEDS</th>\n",
       "      <th>TOTAL_NUM_ICU_BEDS</th>\n",
       "    </tr>\n",
       "  </thead>\n",
       "  <tbody>\n",
       "    <tr>\n",
       "      <th>1</th>\n",
       "      <td>20200813</td>\n",
       "      <td>AL</td>\n",
       "      <td>105557.0</td>\n",
       "      <td>1365.0</td>\n",
       "      <td>1890.0</td>\n",
       "      <td>1</td>\n",
       "      <td>802562.0</td>\n",
       "      <td>18611.0</td>\n",
       "      <td>1637.0</td>\n",
       "    </tr>\n",
       "    <tr>\n",
       "      <th>57</th>\n",
       "      <td>20200812</td>\n",
       "      <td>AL</td>\n",
       "      <td>104786.0</td>\n",
       "      <td>1372.0</td>\n",
       "      <td>1882.0</td>\n",
       "      <td>1</td>\n",
       "      <td>795771.0</td>\n",
       "      <td>18611.0</td>\n",
       "      <td>1637.0</td>\n",
       "    </tr>\n",
       "    <tr>\n",
       "      <th>113</th>\n",
       "      <td>20200811</td>\n",
       "      <td>AL</td>\n",
       "      <td>103851.0</td>\n",
       "      <td>1506.0</td>\n",
       "      <td>1847.0</td>\n",
       "      <td>1</td>\n",
       "      <td>783689.0</td>\n",
       "      <td>18611.0</td>\n",
       "      <td>1637.0</td>\n",
       "    </tr>\n",
       "    <tr>\n",
       "      <th>169</th>\n",
       "      <td>20200810</td>\n",
       "      <td>AL</td>\n",
       "      <td>103020.0</td>\n",
       "      <td>1528.0</td>\n",
       "      <td>1797.0</td>\n",
       "      <td>1</td>\n",
       "      <td>780567.0</td>\n",
       "      <td>18611.0</td>\n",
       "      <td>1637.0</td>\n",
       "    </tr>\n",
       "    <tr>\n",
       "      <th>225</th>\n",
       "      <td>20200809</td>\n",
       "      <td>AL</td>\n",
       "      <td>101334.0</td>\n",
       "      <td>1595.0</td>\n",
       "      <td>1768.0</td>\n",
       "      <td>1</td>\n",
       "      <td>762451.0</td>\n",
       "      <td>18611.0</td>\n",
       "      <td>1637.0</td>\n",
       "    </tr>\n",
       "  </tbody>\n",
       "</table>\n",
       "</div>"
      ],
      "text/plain": [
       "         date state  positive  hospitalizedCurrently   death  fips  \\\n",
       "1    20200813    AL  105557.0                 1365.0  1890.0     1   \n",
       "57   20200812    AL  104786.0                 1372.0  1882.0     1   \n",
       "113  20200811    AL  103851.0                 1506.0  1847.0     1   \n",
       "169  20200810    AL  103020.0                 1528.0  1797.0     1   \n",
       "225  20200809    AL  101334.0                 1595.0  1768.0     1   \n",
       "\n",
       "     totalTestResults  TOTAL_NUM_LICENSED_BEDS  TOTAL_NUM_ICU_BEDS  \n",
       "1            802562.0                  18611.0              1637.0  \n",
       "57           795771.0                  18611.0              1637.0  \n",
       "113          783689.0                  18611.0              1637.0  \n",
       "169          780567.0                  18611.0              1637.0  \n",
       "225          762451.0                  18611.0              1637.0  "
      ]
     },
     "execution_count": 24,
     "metadata": {},
     "output_type": "execute_result"
    }
   ],
   "source": [
    "#sort by states and date\n",
    "df_states = df_states.sort_values([\"fips\", \"date\"], ascending = (True, False))\n",
    "df_states.head()"
   ]
  },
  {
   "cell_type": "code",
   "execution_count": 25,
   "metadata": {},
   "outputs": [
    {
     "name": "stdout",
     "output_type": "stream",
     "text": [
      "Check datatypes:\n"
     ]
    },
    {
     "data": {
      "text/plain": [
       "date                         int64\n",
       "state                       object\n",
       "positive                   float64\n",
       "hospitalizedCurrently      float64\n",
       "death                      float64\n",
       "fips                         int64\n",
       "totalTestResults           float64\n",
       "TOTAL_NUM_LICENSED_BEDS    float64\n",
       "TOTAL_NUM_ICU_BEDS         float64\n",
       "dtype: object"
      ]
     },
     "metadata": {},
     "output_type": "display_data"
    }
   ],
   "source": [
    "# check datatypes\n",
    "print('Check datatypes:')\n",
    "display(df_states.dtypes)"
   ]
  },
  {
   "cell_type": "code",
   "execution_count": 26,
   "metadata": {},
   "outputs": [
    {
     "data": {
      "text/html": [
       "<div>\n",
       "<style scoped>\n",
       "    .dataframe tbody tr th:only-of-type {\n",
       "        vertical-align: middle;\n",
       "    }\n",
       "\n",
       "    .dataframe tbody tr th {\n",
       "        vertical-align: top;\n",
       "    }\n",
       "\n",
       "    .dataframe thead th {\n",
       "        text-align: right;\n",
       "    }\n",
       "</style>\n",
       "<table border=\"1\" class=\"dataframe\">\n",
       "  <thead>\n",
       "    <tr style=\"text-align: right;\">\n",
       "      <th></th>\n",
       "      <th>date</th>\n",
       "      <th>positive</th>\n",
       "      <th>hospitalizedCurrently</th>\n",
       "      <th>death</th>\n",
       "      <th>fips</th>\n",
       "      <th>totalTestResults</th>\n",
       "      <th>TOTAL_NUM_LICENSED_BEDS</th>\n",
       "      <th>TOTAL_NUM_ICU_BEDS</th>\n",
       "    </tr>\n",
       "  </thead>\n",
       "  <tbody>\n",
       "    <tr>\n",
       "      <th>count</th>\n",
       "      <td>6.408000e+03</td>\n",
       "      <td>6408.000000</td>\n",
       "      <td>6408.000000</td>\n",
       "      <td>6408.000000</td>\n",
       "      <td>6408.000000</td>\n",
       "      <td>6.408000e+03</td>\n",
       "      <td>6310.000000</td>\n",
       "      <td>6310.000000</td>\n",
       "    </tr>\n",
       "    <tr>\n",
       "      <th>mean</th>\n",
       "      <td>2.020060e+07</td>\n",
       "      <td>45986.517010</td>\n",
       "      <td>964.371879</td>\n",
       "      <td>1968.732522</td>\n",
       "      <td>30.576779</td>\n",
       "      <td>5.013590e+05</td>\n",
       "      <td>18625.703170</td>\n",
       "      <td>1775.857686</td>\n",
       "    </tr>\n",
       "    <tr>\n",
       "      <th>std</th>\n",
       "      <td>1.292411e+02</td>\n",
       "      <td>79437.816607</td>\n",
       "      <td>1861.329390</td>\n",
       "      <td>3877.935826</td>\n",
       "      <td>17.209976</td>\n",
       "      <td>9.016134e+05</td>\n",
       "      <td>18481.225901</td>\n",
       "      <td>1849.595250</td>\n",
       "    </tr>\n",
       "    <tr>\n",
       "      <th>min</th>\n",
       "      <td>2.020032e+07</td>\n",
       "      <td>32.000000</td>\n",
       "      <td>0.000000</td>\n",
       "      <td>0.000000</td>\n",
       "      <td>1.000000</td>\n",
       "      <td>1.510000e+02</td>\n",
       "      <td>1706.000000</td>\n",
       "      <td>151.000000</td>\n",
       "    </tr>\n",
       "    <tr>\n",
       "      <th>25%</th>\n",
       "      <td>2.020051e+07</td>\n",
       "      <td>4374.500000</td>\n",
       "      <td>95.000000</td>\n",
       "      <td>112.000000</td>\n",
       "      <td>17.000000</td>\n",
       "      <td>7.364175e+04</td>\n",
       "      <td>4748.000000</td>\n",
       "      <td>516.000000</td>\n",
       "    </tr>\n",
       "    <tr>\n",
       "      <th>50%</th>\n",
       "      <td>2.020061e+07</td>\n",
       "      <td>17574.000000</td>\n",
       "      <td>385.500000</td>\n",
       "      <td>538.000000</td>\n",
       "      <td>30.000000</td>\n",
       "      <td>2.046320e+05</td>\n",
       "      <td>15195.000000</td>\n",
       "      <td>1363.000000</td>\n",
       "    </tr>\n",
       "    <tr>\n",
       "      <th>75%</th>\n",
       "      <td>2.020071e+07</td>\n",
       "      <td>50302.250000</td>\n",
       "      <td>953.000000</td>\n",
       "      <td>1853.000000</td>\n",
       "      <td>44.000000</td>\n",
       "      <td>5.446972e+05</td>\n",
       "      <td>22262.000000</td>\n",
       "      <td>2170.000000</td>\n",
       "    </tr>\n",
       "    <tr>\n",
       "      <th>max</th>\n",
       "      <td>2.020081e+07</td>\n",
       "      <td>593141.000000</td>\n",
       "      <td>18825.000000</td>\n",
       "      <td>25228.000000</td>\n",
       "      <td>78.000000</td>\n",
       "      <td>9.445493e+06</td>\n",
       "      <td>83560.000000</td>\n",
       "      <td>8719.000000</td>\n",
       "    </tr>\n",
       "  </tbody>\n",
       "</table>\n",
       "</div>"
      ],
      "text/plain": [
       "               date       positive  hospitalizedCurrently         death  \\\n",
       "count  6.408000e+03    6408.000000            6408.000000   6408.000000   \n",
       "mean   2.020060e+07   45986.517010             964.371879   1968.732522   \n",
       "std    1.292411e+02   79437.816607            1861.329390   3877.935826   \n",
       "min    2.020032e+07      32.000000               0.000000      0.000000   \n",
       "25%    2.020051e+07    4374.500000              95.000000    112.000000   \n",
       "50%    2.020061e+07   17574.000000             385.500000    538.000000   \n",
       "75%    2.020071e+07   50302.250000             953.000000   1853.000000   \n",
       "max    2.020081e+07  593141.000000           18825.000000  25228.000000   \n",
       "\n",
       "              fips  totalTestResults  TOTAL_NUM_LICENSED_BEDS  \\\n",
       "count  6408.000000      6.408000e+03              6310.000000   \n",
       "mean     30.576779      5.013590e+05             18625.703170   \n",
       "std      17.209976      9.016134e+05             18481.225901   \n",
       "min       1.000000      1.510000e+02              1706.000000   \n",
       "25%      17.000000      7.364175e+04              4748.000000   \n",
       "50%      30.000000      2.046320e+05             15195.000000   \n",
       "75%      44.000000      5.446972e+05             22262.000000   \n",
       "max      78.000000      9.445493e+06             83560.000000   \n",
       "\n",
       "       TOTAL_NUM_ICU_BEDS  \n",
       "count         6310.000000  \n",
       "mean          1775.857686  \n",
       "std           1849.595250  \n",
       "min            151.000000  \n",
       "25%            516.000000  \n",
       "50%           1363.000000  \n",
       "75%           2170.000000  \n",
       "max           8719.000000  "
      ]
     },
     "execution_count": 26,
     "metadata": {},
     "output_type": "execute_result"
    }
   ],
   "source": [
    "# check statistics of the features\n",
    "df_states.describe()"
   ]
  },
  {
   "cell_type": "markdown",
   "metadata": {},
   "source": [
    "### Histograms"
   ]
  },
  {
   "cell_type": "code",
   "execution_count": 27,
   "metadata": {},
   "outputs": [
    {
     "data": {
      "image/png": "[encoded data removed]",
      "text/plain": [
       "<Figure size 1440x216 with 1 Axes>"
      ]
     },
     "metadata": {
      "needs_background": "light"
     },
     "output_type": "display_data"
    }
   ],
   "source": [
    "# plot histogram of positive\n",
    "df_states.positive.hist(bins=5, figsize=(20,3))\n",
    "plt.xlabel('positive')\n",
    "plt.title('Histogram');"
   ]
  },
  {
   "cell_type": "code",
   "execution_count": 28,
   "metadata": {},
   "outputs": [
    {
     "data": {
      "image/png": "[encoded data removed]",
      "text/plain": [
       "<Figure size 1440x216 with 1 Axes>"
      ]
     },
     "metadata": {
      "needs_background": "light"
     },
     "output_type": "display_data"
    }
   ],
   "source": [
    "# plot histogram of death\n",
    "df_states.death.hist(bins=5, figsize=(20,3))\n",
    "plt.xlabel('death')\n",
    "plt.title('Histogram');"
   ]
  },
  {
   "cell_type": "code",
   "execution_count": 29,
   "metadata": {},
   "outputs": [
    {
     "data": {
      "image/png": "[encoded data removed]",
      "text/plain": [
       "<Figure size 1440x216 with 1 Axes>"
      ]
     },
     "metadata": {
      "needs_background": "light"
     },
     "output_type": "display_data"
    }
   ],
   "source": [
    "# plot histogram of totalTestResults\n",
    "df_states.totalTestResults.hist(bins=5, figsize=(20,3))\n",
    "plt.xlabel('totalTestResults')\n",
    "plt.title('Histogram');"
   ]
  },
  {
   "cell_type": "code",
   "execution_count": 30,
   "metadata": {},
   "outputs": [
    {
     "data": {
      "image/png": "[encoded data removed]",
      "text/plain": [
       "<Figure size 1440x216 with 1 Axes>"
      ]
     },
     "metadata": {
      "needs_background": "light"
     },
     "output_type": "display_data"
    }
   ],
   "source": [
    "# plot histogram of hospitalizedCurrently\n",
    "df_states.hospitalizedCurrently.hist(bins=5, figsize=(20,3))\n",
    "plt.xlabel('hospitalizedCurrently')\n",
    "plt.title('Histogram');"
   ]
  },
  {
   "cell_type": "markdown",
   "metadata": {},
   "source": [
    "### Correlation\n",
    "Checking for correlation"
   ]
  },
  {
   "cell_type": "code",
   "execution_count": 31,
   "metadata": {},
   "outputs": [
    {
     "data": {
      "image/png": "[encoded data removed]",
      "text/plain": [
       "<Figure size 432x288 with 1 Axes>"
      ]
     },
     "metadata": {
      "needs_background": "light"
     },
     "output_type": "display_data"
    }
   ],
   "source": [
    "df_states.plot(x='totalTestResults', y='positive', style='o')  \n",
    "plt.title('totalTestResults vs positive')  \n",
    "plt.xlabel('totalTestResults')  \n",
    "plt.ylabel('positive')  \n",
    "plt.show()"
   ]
  },
  {
   "cell_type": "code",
   "execution_count": 32,
   "metadata": {},
   "outputs": [
    {
     "data": {
      "image/png": "[encoded data removed]",
      "text/plain": [
       "<Figure size 432x288 with 1 Axes>"
      ]
     },
     "metadata": {
      "needs_background": "light"
     },
     "output_type": "display_data"
    }
   ],
   "source": [
    "df_states.plot(x='totalTestResults', y='hospitalizedCurrently', style='o')  \n",
    "plt.title('totalTestResults vs hospitalizedCurrently')  \n",
    "plt.xlabel('totalTestResults')  \n",
    "plt.ylabel('hospitalizedCurrently')  \n",
    "plt.show()"
   ]
  },
  {
   "cell_type": "code",
   "execution_count": 33,
   "metadata": {},
   "outputs": [
    {
     "data": {
      "image/png": "[encoded data removed]",
      "text/plain": [
       "<Figure size 432x288 with 1 Axes>"
      ]
     },
     "metadata": {
      "needs_background": "light"
     },
     "output_type": "display_data"
    }
   ],
   "source": [
    "df_states.plot(x='hospitalizedCurrently', y='death', style='o')  \n",
    "plt.title('hospitalizedCurrently vs death')  \n",
    "plt.xlabel('hospitalizedCurrently')  \n",
    "plt.ylabel('death')  \n",
    "plt.show()"
   ]
  },
  {
   "cell_type": "code",
   "execution_count": 34,
   "metadata": {},
   "outputs": [],
   "source": [
    "#test for hospitalizedCurrently \n",
    "# split data into train test set into train and test in 70:30 ratio\n",
    "df = df_states\n",
    "# drop records without indicators\n",
    "df.dropna(subset=['death','positive','hospitalizedCurrently','totalTestResults'], inplace=True)\n",
    "\n",
    "y = df[\"hospitalizedCurrently\"]\n",
    "X = df.drop(['hospitalizedCurrently','state','TOTAL_NUM_LICENSED_BEDS','TOTAL_NUM_ICU_BEDS','date','fips'], axis=1)\n",
    "\n",
    "\n",
    "\n",
    "X_train, X_test, y_train, y_test = train_test_split(X, y, test_size = 0.30, random_state = 42)"
   ]
  },
  {
   "cell_type": "code",
   "execution_count": 35,
   "metadata": {},
   "outputs": [
    {
     "data": {
      "text/plain": [
       "positive            float64\n",
       "death               float64\n",
       "totalTestResults    float64\n",
       "dtype: object"
      ]
     },
     "execution_count": 35,
     "metadata": {},
     "output_type": "execute_result"
    }
   ],
   "source": [
    "X_train.dtypes"
   ]
  },
  {
   "cell_type": "code",
   "execution_count": 36,
   "metadata": {},
   "outputs": [
    {
     "data": {
      "text/plain": [
       "dtype('float64')"
      ]
     },
     "execution_count": 36,
     "metadata": {},
     "output_type": "execute_result"
    }
   ],
   "source": [
    "y_train.dtypes"
   ]
  },
  {
   "cell_type": "code",
   "execution_count": 37,
   "metadata": {},
   "outputs": [
    {
     "data": {
      "text/plain": [
       "LinearRegression()"
      ]
     },
     "execution_count": 37,
     "metadata": {},
     "output_type": "execute_result"
    }
   ],
   "source": [
    "# Train and predict using linear regression\n",
    "linear_reg = LinearRegression()\n",
    "# Train with the train dataset\n",
    "linear_reg.fit(X_train, y_train)"
   ]
  },
  {
   "cell_type": "code",
   "execution_count": 38,
   "metadata": {},
   "outputs": [
    {
     "data": {
      "text/html": [
       "<div>\n",
       "<style scoped>\n",
       "    .dataframe tbody tr th:only-of-type {\n",
       "        vertical-align: middle;\n",
       "    }\n",
       "\n",
       "    .dataframe tbody tr th {\n",
       "        vertical-align: top;\n",
       "    }\n",
       "\n",
       "    .dataframe thead th {\n",
       "        text-align: right;\n",
       "    }\n",
       "</style>\n",
       "<table border=\"1\" class=\"dataframe\">\n",
       "  <thead>\n",
       "    <tr style=\"text-align: right;\">\n",
       "      <th></th>\n",
       "      <th>Coefficient</th>\n",
       "    </tr>\n",
       "  </thead>\n",
       "  <tbody>\n",
       "    <tr>\n",
       "      <th>positive</th>\n",
       "      <td>0.039862</td>\n",
       "    </tr>\n",
       "    <tr>\n",
       "      <th>death</th>\n",
       "      <td>-0.243724</td>\n",
       "    </tr>\n",
       "    <tr>\n",
       "      <th>totalTestResults</th>\n",
       "      <td>-0.001485</td>\n",
       "    </tr>\n",
       "  </tbody>\n",
       "</table>\n",
       "</div>"
      ],
      "text/plain": [
       "                  Coefficient\n",
       "positive             0.039862\n",
       "death               -0.243724\n",
       "totalTestResults    -0.001485"
      ]
     },
     "execution_count": 38,
     "metadata": {},
     "output_type": "execute_result"
    }
   ],
   "source": [
    "coeff_df = pd.DataFrame(linear_reg.coef_, X_train.columns, columns=['Coefficient'])  \n",
    "coeff_df"
   ]
  },
  {
   "cell_type": "code",
   "execution_count": 39,
   "metadata": {},
   "outputs": [
    {
     "data": {
      "text/plain": [
       "0    361.343758\n",
       "dtype: float64"
      ]
     },
     "execution_count": 39,
     "metadata": {},
     "output_type": "execute_result"
    }
   ],
   "source": [
    "intercept_df = pd.Series(linear_reg.intercept_)\n",
    "intercept_df"
   ]
  },
  {
   "cell_type": "code",
   "execution_count": 40,
   "metadata": {},
   "outputs": [
    {
     "data": {
      "text/html": [
       "<div>\n",
       "<style scoped>\n",
       "    .dataframe tbody tr th:only-of-type {\n",
       "        vertical-align: middle;\n",
       "    }\n",
       "\n",
       "    .dataframe tbody tr th {\n",
       "        vertical-align: top;\n",
       "    }\n",
       "\n",
       "    .dataframe thead th {\n",
       "        text-align: right;\n",
       "    }\n",
       "</style>\n",
       "<table border=\"1\" class=\"dataframe\">\n",
       "  <thead>\n",
       "    <tr style=\"text-align: right;\">\n",
       "      <th></th>\n",
       "      <th>Coefficient</th>\n",
       "    </tr>\n",
       "  </thead>\n",
       "  <tbody>\n",
       "    <tr>\n",
       "      <th>positive</th>\n",
       "      <td>14.243674</td>\n",
       "    </tr>\n",
       "    <tr>\n",
       "      <th>hospitalizedCurrently</th>\n",
       "      <td>-106.014043</td>\n",
       "    </tr>\n",
       "    <tr>\n",
       "      <th>death</th>\n",
       "      <td>-64.310432</td>\n",
       "    </tr>\n",
       "  </tbody>\n",
       "</table>\n",
       "</div>"
      ],
      "text/plain": [
       "                       Coefficient\n",
       "positive                 14.243674\n",
       "hospitalizedCurrently  -106.014043\n",
       "death                   -64.310432"
      ]
     },
     "execution_count": 40,
     "metadata": {},
     "output_type": "execute_result"
    }
   ],
   "source": [
    "#test for totalTestResults \n",
    "# split data into train test set into train and test in 70:30 ratio\n",
    "df = df_states\n",
    "# drop records without indicators\n",
    "df.dropna(subset=['death','positive','hospitalizedCurrently','totalTestResults'], inplace=True)\n",
    "\n",
    "y = df[\"totalTestResults\"]\n",
    "X = df.drop(['totalTestResults','state','TOTAL_NUM_LICENSED_BEDS','TOTAL_NUM_ICU_BEDS','date','fips'], axis=1)\n",
    "\n",
    "\n",
    "\n",
    "X_train, X_test, y_train, y_test = train_test_split(X, y, test_size = 0.30, random_state = 42)\n",
    "\n",
    "# Train and predict using linear regression\n",
    "linear_reg = LinearRegression()\n",
    "# Train with the train dataset\n",
    "linear_reg.fit(X_train, y_train)\n",
    "\n",
    "coeff_df = pd.DataFrame(linear_reg.coef_, X_train.columns, columns=['Coefficient'])  \n",
    "coeff_df"
   ]
  },
  {
   "cell_type": "code",
   "execution_count": 41,
   "metadata": {},
   "outputs": [
    {
     "data": {
      "text/plain": [
       "0    72980.931523\n",
       "dtype: float64"
      ]
     },
     "execution_count": 41,
     "metadata": {},
     "output_type": "execute_result"
    }
   ],
   "source": [
    "intercept_df = pd.Series(linear_reg.intercept_)\n",
    "intercept_df"
   ]
  },
  {
   "cell_type": "code",
   "execution_count": 42,
   "metadata": {},
   "outputs": [
    {
     "data": {
      "text/html": [
       "<div>\n",
       "<style scoped>\n",
       "    .dataframe tbody tr th:only-of-type {\n",
       "        vertical-align: middle;\n",
       "    }\n",
       "\n",
       "    .dataframe tbody tr th {\n",
       "        vertical-align: top;\n",
       "    }\n",
       "\n",
       "    .dataframe thead th {\n",
       "        text-align: right;\n",
       "    }\n",
       "</style>\n",
       "<table border=\"1\" class=\"dataframe\">\n",
       "  <thead>\n",
       "    <tr style=\"text-align: right;\">\n",
       "      <th></th>\n",
       "      <th>Coefficient</th>\n",
       "    </tr>\n",
       "  </thead>\n",
       "  <tbody>\n",
       "    <tr>\n",
       "      <th>positive</th>\n",
       "      <td>0.069265</td>\n",
       "    </tr>\n",
       "    <tr>\n",
       "      <th>hospitalizedCurrently</th>\n",
       "      <td>-0.571642</td>\n",
       "    </tr>\n",
       "    <tr>\n",
       "      <th>totalTestResults</th>\n",
       "      <td>-0.002112</td>\n",
       "    </tr>\n",
       "  </tbody>\n",
       "</table>\n",
       "</div>"
      ],
      "text/plain": [
       "                       Coefficient\n",
       "positive                  0.069265\n",
       "hospitalizedCurrently    -0.571642\n",
       "totalTestResults         -0.002112"
      ]
     },
     "execution_count": 42,
     "metadata": {},
     "output_type": "execute_result"
    }
   ],
   "source": [
    "#test for death \n",
    "# split data into train test set into train and test in 70:30 ratio\n",
    "df = df_states\n",
    "# drop records without indicators\n",
    "df.dropna(subset=['death','positive','hospitalizedCurrently','totalTestResults'], inplace=True)\n",
    "\n",
    "y = df[\"death\"]\n",
    "X = df.drop(['death','state','TOTAL_NUM_LICENSED_BEDS','TOTAL_NUM_ICU_BEDS','date','fips'], axis=1)\n",
    "\n",
    "\n",
    "\n",
    "X_train, X_test, y_train, y_test = train_test_split(X, y, test_size = 0.30, random_state = 42)\n",
    "\n",
    "# Train and predict using linear regression\n",
    "linear_reg = LinearRegression()\n",
    "# Train with the train dataset\n",
    "linear_reg.fit(X_train, y_train)\n",
    "\n",
    "coeff_df = pd.DataFrame(linear_reg.coef_, X_train.columns, columns=['Coefficient'])  \n",
    "coeff_df"
   ]
  },
  {
   "cell_type": "code",
   "execution_count": 43,
   "metadata": {},
   "outputs": [
    {
     "data": {
      "text/plain": [
       "0    372.906067\n",
       "dtype: float64"
      ]
     },
     "execution_count": 43,
     "metadata": {},
     "output_type": "execute_result"
    }
   ],
   "source": [
    "intercept_df = pd.Series(linear_reg.intercept_)\n",
    "intercept_df"
   ]
  },
  {
   "cell_type": "code",
   "execution_count": 44,
   "metadata": {},
   "outputs": [],
   "source": [
    "#test for positive \n",
    "# split data into train test set into train and test in 70:30 ratio\n",
    "df = df_states\n",
    "# drop records without indicators\n",
    "df.dropna(subset=['death','positive','hospitalizedCurrently','totalTestResults'], inplace=True)\n",
    "\n",
    "y = df[\"positive\"]\n",
    "X = df.drop(['positive','state','TOTAL_NUM_LICENSED_BEDS','TOTAL_NUM_ICU_BEDS','date','fips'], axis=1)\n",
    "\n",
    "\n",
    "\n",
    "X_train, X_test, y_train, y_test = train_test_split(X, y, test_size = 0.30, random_state = 42)"
   ]
  },
  {
   "cell_type": "code",
   "execution_count": 45,
   "metadata": {},
   "outputs": [
    {
     "data": {
      "text/html": [
       "<div>\n",
       "<style scoped>\n",
       "    .dataframe tbody tr th:only-of-type {\n",
       "        vertical-align: middle;\n",
       "    }\n",
       "\n",
       "    .dataframe tbody tr th {\n",
       "        vertical-align: top;\n",
       "    }\n",
       "\n",
       "    .dataframe thead th {\n",
       "        text-align: right;\n",
       "    }\n",
       "</style>\n",
       "<table border=\"1\" class=\"dataframe\">\n",
       "  <thead>\n",
       "    <tr style=\"text-align: right;\">\n",
       "      <th></th>\n",
       "      <th>Coefficient</th>\n",
       "    </tr>\n",
       "  </thead>\n",
       "  <tbody>\n",
       "    <tr>\n",
       "      <th>hospitalizedCurrently</th>\n",
       "      <td>9.842602</td>\n",
       "    </tr>\n",
       "    <tr>\n",
       "      <th>death</th>\n",
       "      <td>7.291911</td>\n",
       "    </tr>\n",
       "    <tr>\n",
       "      <th>totalTestResults</th>\n",
       "      <td>0.049250</td>\n",
       "    </tr>\n",
       "  </tbody>\n",
       "</table>\n",
       "</div>"
      ],
      "text/plain": [
       "                       Coefficient\n",
       "hospitalizedCurrently     9.842602\n",
       "death                     7.291911\n",
       "totalTestResults          0.049250"
      ]
     },
     "execution_count": 45,
     "metadata": {},
     "output_type": "execute_result"
    }
   ],
   "source": [
    "# Train and predict using linear regression\n",
    "linear_reg = LinearRegression()\n",
    "# Train with the train dataset\n",
    "linear_reg.fit(X_train, y_train)\n",
    "coeff_df = pd.DataFrame(linear_reg.coef_, X_train.columns, columns=['Coefficient'])  \n",
    "coeff_df"
   ]
  },
  {
   "cell_type": "code",
   "execution_count": null,
   "metadata": {},
   "outputs": [],
   "source": [
    "# create 3-day rolling averages of cases, infection rate, mortality, hospitalization, \n",
    "# testing capacity and hospital rate (hospital_rate) and hospital rate using ICU beds (hospital_rate2)\n",
    "for i in range(0,df_states.shape[0]-2):\n",
    "  if(df_states.iloc[i,5] == df_states.iloc[i+1,5] and df_states.iloc[i+1,5] == df_states.iloc[i+2,5]):\n",
    "    df_states.loc[df_states.index[i],'count'] = np.round(((df_states.iloc[i,2]+ df_states.iloc[i+1,2] +df_states.iloc[i+2,2])/3),2)\n",
    "    df_states.loc[df_states.index[i],'testing_capacity'] = np.round(((df_states.iloc[i,6]+ df_states.iloc[i+1,6] +df_states.iloc[i+2,6])/3),2)\n",
    "    df_states.loc[df_states.index[i],'mortality'] = np.round(((df_states.iloc[i,4]+ df_states.iloc[i+1,4] +df_states.iloc[i+2,4])/3),2)   \n",
    "    df_states.loc[df_states.index[i],'hospitalization'] = np.round(((df_states.iloc[i,3]+ df_states.iloc[i+1,3] +df_states.iloc[i+2,3])/3),2)   \n",
    "    if(df_states.iloc[i,6] != 0 and df_states.iloc[i+1,6] != 0 and df_states.iloc[i+2,6] != 0):\n",
    "      df_states.loc[df_states.index[i],'infection_rate'] = np.round(df_states.loc[df_states.index[i],'count'] / df_states.loc[df_states.index[i],'testing_capacity'],2)\n",
    "    else:\n",
    "      df_states.loc[df_states.index[i],'infection_rate'] = 0  \n",
    "    if(df_states.iloc[i,7] != 0 and df_states.iloc[i+1,7] != 0 and df_states.iloc[i+2,7] != 0):\n",
    "      df_states.loc[df_states.index[i],'hospitalization_rate'] = np.round(df_states.loc[df_states.index[i],'hospitalization'] / df_states.loc[df_states.index[i],'TOTAL_NUM_LICENSED_BEDS'],2)\n",
    "    else:\n",
    "      df_states.loc[df_states.index[i],'hospitalization_rate'] = 0   \n",
    "    if(df_states.iloc[i,8] != 0 and df_states.iloc[i+1,8] != 0 and df_states.iloc[i+2,8] != 0):\n",
    "      df_states.loc[df_states.index[i],'hospitalization_rate2'] = np.round(df_states.loc[df_states.index[i],'hospitalization'] / df_states.loc[df_states.index[i],'TOTAL_NUM_ICU_BEDS'],2)\n",
    "    else:\n",
    "      df_states.loc[df_states.index[i],'hospitalization_rate2'] = 0 \n",
    "  else: \n",
    "    df_states.loc[df_states.index[i],'count'] = 0\n",
    "    df_states.loc[df_states.index[i],'testing_capacity'] = 0\n",
    "    df_states.loc[df_states.index[i],'mortality'] = 0\n",
    "    df_states.loc[df_states.index[i],'hospitalization'] = 0\n",
    "    \n",
    "        "
   ]
  },
  {
   "cell_type": "code",
   "execution_count": null,
   "metadata": {},
   "outputs": [],
   "source": [
    "#48 is Texas\n",
    "df_states.loc[df_states['fips'] == 48].tail()"
   ]
  },
  {
   "cell_type": "code",
   "execution_count": null,
   "metadata": {},
   "outputs": [],
   "source": [
    "df_states.loc[df_states['fips'] == 48].head()"
   ]
  },
  {
   "cell_type": "code",
   "execution_count": null,
   "metadata": {},
   "outputs": [],
   "source": [
    "#6 is California\n",
    "df_states.loc[df_states['fips'] == 6].tail()"
   ]
  },
  {
   "cell_type": "code",
   "execution_count": null,
   "metadata": {},
   "outputs": [],
   "source": [
    "#6 is California\n",
    "df_states.loc[df_states['fips'] == 6].head()"
   ]
  },
  {
   "cell_type": "code",
   "execution_count": null,
   "metadata": {},
   "outputs": [],
   "source": [
    "plot_corr(df_states)"
   ]
  },
  {
   "cell_type": "code",
   "execution_count": null,
   "metadata": {},
   "outputs": [],
   "source": [
    "#find mins and maxes\n",
    "grouped_df = df_states.groupby(\"fips\")\n",
    "maximums = grouped_df.max()\n",
    "maximums = maximums.reset_index()\n",
    "minimums = grouped_df.min()\n",
    "minimums = minimums.reset_index()"
   ]
  },
  {
   "cell_type": "code",
   "execution_count": null,
   "metadata": {},
   "outputs": [],
   "source": [
    "maximums.drop(columns=['death','state','positive','hospitalizedCurrently','totalTestResults','TOTAL_NUM_LICENSED_BEDS',\n",
    "                       'TOTAL_NUM_ICU_BEDS','date'],inplace=True)\n",
    "minimums.drop(columns=['death','state','positive','hospitalizedCurrently','totalTestResults','TOTAL_NUM_LICENSED_BEDS',\n",
    "                       'TOTAL_NUM_ICU_BEDS','date'],inplace=True)\n"
   ]
  },
  {
   "cell_type": "code",
   "execution_count": null,
   "metadata": {},
   "outputs": [],
   "source": [
    "maximums.rename(columns={'count':'count_max','testing_capacity':'testing_capacity_max','mortality':'mortality_max',\n",
    "                          'hospitalization':'hospitalization_max','infection_rate':'infection_rate_max',\n",
    "                         'hospitalization_rate':'hospitalization_rate_max',\n",
    "                         'hospitalization_rate2':'hospitalization_rate2_max'}, \n",
    "                 inplace=True)\n",
    "minimums.rename(columns={'count':'count_min','testing_capacity':'testing_capacity_min','mortality':'mortality_min',\n",
    "                          'hospitalization':'hospitalization_min','infection_rate':'infection_rate_min',\n",
    "                         'hospitalization_rate':'hospitalization_rate_min',\n",
    "                         'hospitalization_rate2':'hospitalization_rate2_min'}, \n",
    "                 inplace=True)"
   ]
  },
  {
   "cell_type": "code",
   "execution_count": null,
   "metadata": {},
   "outputs": [],
   "source": [
    "#use 0 for nulls in hospital rates\n",
    "maximums = maximums.fillna(0)\n",
    "minimums = minimums.fillna(0)\n",
    "maximums.head()"
   ]
  },
  {
   "cell_type": "code",
   "execution_count": null,
   "metadata": {},
   "outputs": [],
   "source": [
    "df_states = df_states.join(minimums.set_index(['fips'], verify_integrity=True ),on=['fips'], how='left')\n",
    "df_states = df_states.join(maximums.set_index(['fips'], verify_integrity=True ),on=['fips'], how='left')"
   ]
  },
  {
   "cell_type": "code",
   "execution_count": null,
   "metadata": {},
   "outputs": [],
   "source": [
    "#calculate ratio of the current day's count divided by the 3-day average prior to current day\n",
    "for i in range(0,df_states.shape[0]-1):\n",
    "  if(df_states.iloc[i,5] == df_states.iloc[i+1,5]):\n",
    "    if(df_states.iloc[i+1,9] != 0):\n",
    "      df_states.loc[df_states.index[i],'count_ratio'] = np.round((df_states.iloc[i,9]/df_states.iloc[i+1,9]),2)\n",
    "    else: \n",
    "      df_states.loc[df_states.index[i],'count_ratio'] = 0\n",
    "    if(df_states.iloc[i+1,10] != 0):\n",
    "      df_states.loc[df_states.index[i],'testing_capacity_ratio'] = np.round((df_states.iloc[i,10]/df_states.iloc[i+1,10]),2)\n",
    "    else: \n",
    "      df_states.loc[df_states.index[i],'testing_capacity_ratio'] = 0\n",
    "    if(df_states.iloc[i+1,11] != 0):\n",
    "      df_states.loc[df_states.index[i],'mortality_ratio'] = np.round((df_states.iloc[i,11]/df_states.iloc[i+1,11]),2)\n",
    "    else: \n",
    "      df_states.loc[df_states.index[i],'mortality_ratio'] = 0\n",
    "    if(df_states.iloc[i+1,12] != 0):\n",
    "      df_states.loc[df_states.index[i],'hospitalization_ratio'] = np.round((df_states.iloc[i,12]/df_states.iloc[i+1,12]),2)\n",
    "    else: \n",
    "      df_states.loc[df_states.index[i],'hospitalization_ratio'] = 0\n",
    "    if(df_states.iloc[i+1,13] != 0):\n",
    "      df_states.loc[df_states.index[i],'infection_rate_ratio'] = np.round((df_states.iloc[i,13]/df_states.iloc[i+1,13]),2)\n",
    "    else: \n",
    "      df_states.loc[df_states.index[i],'infection_rate_ratio'] = 0\n",
    "    if(df_states.iloc[i+1,14] != 0):\n",
    "      df_states.loc[df_states.index[i],'hospitalization_rate_ratio'] = np.round((df_states.iloc[i,14]/df_states.iloc[i+1,14]),2)\n",
    "    else: \n",
    "      df_states.loc[df_states.index[i],'hospitalization_rate_ratio'] = 0\n",
    "    if(df_states.iloc[i+1,15] != 0):\n",
    "      df_states.loc[df_states.index[i],'hospitalization_rate2_ratio'] = np.round((df_states.iloc[i,15]/df_states.iloc[i+1,15]),2)\n",
    "    else: \n",
    "      df_states.loc[df_states.index[i],'hospitalization_rate2_ratio'] = 0\n"
   ]
  },
  {
   "cell_type": "code",
   "execution_count": null,
   "metadata": {},
   "outputs": [],
   "source": [
    "df_states.head()"
   ]
  },
  {
   "cell_type": "code",
   "execution_count": null,
   "metadata": {},
   "outputs": [],
   "source": [
    "#calculate sub-indexes by normalizing the ratios\n",
    "for i in range(0,df_states.shape[0]):\n",
    "  if((df_states.iloc[i,23]-df_states.iloc[i,16]) != 0):\n",
    "    df_states.loc[df_states.index[i],'count_subindex'] = np.round(((df_states.iloc[i,9] - df_states.iloc[i,16])/(df_states.iloc[i,23]-df_states.iloc[i,16])),2)\n",
    "  else: \n",
    "    df_states.loc[df_states.index[i],'count_subindex'] = 0\n",
    "  if((df_states.iloc[i,24]-df_states.iloc[i,17]) != 0):\n",
    "    df_states.loc[df_states.index[i],'testing_capacity_subindex'] = np.round(((df_states.iloc[i,10] - df_states.iloc[i,17])/(df_states.iloc[i,24]-df_states.iloc[i,17])),2)\n",
    "  else: \n",
    "    df_states.loc[df_states.index[i],'testing_capacity_subindex'] = 0\n",
    "  if((df_states.iloc[i,25]-df_states.iloc[i,18]) != 0):\n",
    "    df_states.loc[df_states.index[i],'mortality_subindex'] = np.round(((df_states.iloc[i,11] - df_states.iloc[i,18])/(df_states.iloc[i,25]-df_states.iloc[i,18])),2)\n",
    "  else: \n",
    "    df_states.loc[df_states.index[i],'mortality_subindex'] = 0\n",
    "  if((df_states.iloc[i,26]-df_states.iloc[i,19]) != 0):\n",
    "    df_states.loc[df_states.index[i],'hospitalization_subindex'] = np.round(((df_states.iloc[i,12] - df_states.iloc[i,19])/(df_states.iloc[i,26]-df_states.iloc[i,19])),2)\n",
    "  else: \n",
    "    df_states.loc[df_states.index[i],'hospitalization_subindex'] = 0\n",
    "  if((df_states.iloc[i,27]-df_states.iloc[i,20]) != 0):\n",
    "    df_states.loc[df_states.index[i],'infection_rate_subindex'] = np.round(((df_states.iloc[i,13] - df_states.iloc[i,20])/(df_states.iloc[i,27]-df_states.iloc[i,20])),2)\n",
    "  else: \n",
    "    df_states.loc[df_states.index[i],'infection_rate_subindex'] = 0\n",
    "  if((df_states.iloc[i,28]-df_states.iloc[i,21]) != 0):\n",
    "    df_states.loc[df_states.index[i],'hospitalization_rate_subindex'] = np.round(((df_states.iloc[i,14] - df_states.iloc[i,21])/(df_states.iloc[i,28]-df_states.iloc[i,21])),2)\n",
    "  else: \n",
    "    df_states.loc[df_states.index[i],'hospitalization_rate_subindex'] = 0\n",
    "  if((df_states.iloc[i,29]-df_states.iloc[i,22]) != 0):\n",
    "    df_states.loc[df_states.index[i],'hospitalization_rate2_subindex'] = np.round(((df_states.iloc[i,15] - df_states.iloc[i,22])/(df_states.iloc[i,29]-df_states.iloc[i,22])),2)\n",
    "  else: \n",
    "    df_states.loc[df_states.index[i],'hospitalization_rate2_subindex'] = 0"
   ]
  },
  {
   "cell_type": "code",
   "execution_count": null,
   "metadata": {},
   "outputs": [],
   "source": [
    "df_states"
   ]
  },
  {
   "cell_type": "code",
   "execution_count": null,
   "metadata": {},
   "outputs": [],
   "source": [
    "#calculate composite index by taking arthimetic mean the sub-indexes\n",
    "cols = ['count_subindex', 'testing_capacity_subindex', 'mortality_subindex',\n",
    "    'hospitalization_subindex','infection_rate_subindex','hospitalization_rate_subindex',\n",
    "                                  'hospitalization_rate2_subindex']\n",
    "df_states['comp_index'] = df_states[cols].astype(float).mean(axis=1)"
   ]
  },
  {
   "cell_type": "code",
   "execution_count": null,
   "metadata": {},
   "outputs": [],
   "source": [
    "#test comp index \n",
    "# split data into train test set into train and test in 70:30 ratio\n",
    "df = df_states\n",
    "\n",
    "# drop records without composite index\n",
    "df = df.dropna()\n",
    "\n",
    "y = df[\"comp_index\"]\n",
    "X = df.drop(['comp_index','state','TOTAL_NUM_LICENSED_BEDS','TOTAL_NUM_ICU_BEDS','date','fips'], axis=1)\n",
    "\n",
    "X_train, X_test, y_train, y_test = train_test_split(X, y, test_size = 0.30, random_state = 42)"
   ]
  },
  {
   "cell_type": "code",
   "execution_count": null,
   "metadata": {},
   "outputs": [],
   "source": [
    "# Train and predict using linear regression\n",
    "linear_reg = LinearRegression()\n",
    "# Train with the train dataset\n",
    "linear_reg.fit(X_train, y_train)\n",
    "coeff_df = pd.DataFrame(linear_reg.coef_, X_train.columns, columns=['Coefficient'])  \n",
    "coeff_df"
   ]
  },
  {
   "cell_type": "code",
   "execution_count": null,
   "metadata": {},
   "outputs": [],
   "source": [
    "#New Jersey\n",
    "df_states.loc[df_states['fips'] == 34].head()"
   ]
  },
  {
   "cell_type": "code",
   "execution_count": null,
   "metadata": {},
   "outputs": [],
   "source": [
    "#Alaska\n",
    "df_states.loc[df_states['fips'] == 2].head()"
   ]
  },
  {
   "cell_type": "code",
   "execution_count": null,
   "metadata": {},
   "outputs": [],
   "source": [
    "#Washington\n",
    "df_states.loc[df_states['fips'] == 53].head()"
   ]
  },
  {
   "cell_type": "code",
   "execution_count": null,
   "metadata": {},
   "outputs": [],
   "source": [
    "#District of Columbia\n",
    "df_states.loc[df_states['fips'] == 11].head()"
   ]
  },
  {
   "cell_type": "code",
   "execution_count": null,
   "metadata": {},
   "outputs": [],
   "source": []
  }
 ],
 "metadata": {
  "kernelspec": {
   "display_name": "Python 3",
   "language": "python",
   "name": "python3"
  },
  "language_info": {
   "codemirror_mode": {
    "name": "ipython",
    "version": 3
   },
   "file_extension": ".py",
   "mimetype": "text/x-python",
   "name": "python",
   "nbconvert_exporter": "python",
   "pygments_lexer": "ipython3",
   "version": "3.8.3"
  }
 },
 "nbformat": 4,
 "nbformat_minor": 4
}
